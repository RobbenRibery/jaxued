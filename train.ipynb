{
 "cells": [
  {
   "cell_type": "code",
   "execution_count": 2,
   "metadata": {},
   "outputs": [
    {
     "name": "stdout",
     "output_type": "stream",
     "text": [
      "The autoreload extension is already loaded. To reload it, use:\n",
      "  %reload_ext autoreload\n"
     ]
    }
   ],
   "source": [
    "%load_ext autoreload\n",
    "%autoreload 2\n",
    "\n",
    "from typing import Tuple\n",
    "\n",
    "import jax \n",
    "import jax.numpy as jnp \n",
    "import numpy \n",
    "\n",
    "from craftax.craftax_env import CraftaxSymbolicEnv\n",
    "from craftax.craftax.craftax_state import EnvParams, EnvState \n",
    "\n",
    "from examples.craftax.craftax_plr import ActorCritic \n",
    "from examples.craftax.craftax_wrappers import LogWrapper \n",
    "\n",
    "from jaxued.environments.maze import Maze, MazeRenderer\n",
    "from jaxued.wrappers import AutoReplayWrapper\n",
    "\n",
    "from jaxued.environments.maze import (\n",
    "    Level,\n",
    "    make_level_generator,\n",
    "    make_level_mutator_minimax,\n",
    ")\n"
   ]
  },
  {
   "cell_type": "code",
   "execution_count": 3,
   "metadata": {},
   "outputs": [],
   "source": [
    "# # Setup the environment\n",
    "# # maze \n",
    "# env = Maze(\n",
    "#     max_height=13,\n",
    "#     max_width=13,\n",
    "#     agent_view_size=5,\n",
    "#     normalize_obs=True,\n",
    "# )\n",
    "# eval_env = env\n",
    "# sample_random_level = make_level_generator(\n",
    "#     env.max_height, env.max_width, 13\n",
    "# )\n",
    "# env_renderer = MazeRenderer(env, tile_size=8)\n",
    "# env = AutoReplayWrapper(env)\n",
    "# env_params = env.default_params "
   ]
  },
  {
   "cell_type": "code",
   "execution_count": 4,
   "metadata": {},
   "outputs": [],
   "source": [
    "# craftax \n",
    "ENV_CLASS = CraftaxSymbolicEnv\n",
    "DEFAULT_STATICS = ENV_CLASS.default_static_params()\n",
    "default_env = ENV_CLASS(DEFAULT_STATICS)\n",
    "env = LogWrapper(default_env)\n",
    "env = AutoReplayWrapper(env)\n",
    "eval_env = env\n",
    "env_params = env.default_params\n",
    "\n",
    "from craftax.craftax.world_gen.world_gen import generate_world\n",
    "\n",
    "def sample_random_level(rng):\n",
    "    return generate_world(rng, env.default_params, DEFAULT_STATICS)\n"
   ]
  },
  {
   "cell_type": "code",
   "execution_count": 25,
   "metadata": {},
   "outputs": [],
   "source": [
    "rng = jax.random.PRNGKey(0)\n",
    "rng, subrng = jax.random.split(rng, 2)\n",
    "obs, _ = env.reset_to_level(subrng, sample_random_level(rng), env_params)"
   ]
  },
  {
   "cell_type": "code",
   "execution_count": 26,
   "metadata": {},
   "outputs": [
    {
     "data": {
      "text/plain": [
       "(8268,)"
      ]
     },
     "execution_count": 26,
     "metadata": {},
     "output_type": "execute_result"
    }
   ],
   "source": [
    "obs.shape"
   ]
  },
  {
   "cell_type": "code",
   "execution_count": 27,
   "metadata": {},
   "outputs": [
    {
     "data": {
      "text/plain": [
       "(1, 32, 8268)"
      ]
     },
     "execution_count": 27,
     "metadata": {},
     "output_type": "execute_result"
    }
   ],
   "source": [
    "obs = jax.tree_util.tree_map(\n",
    "    lambda x: jnp.repeat(x[None, ...], 32, axis=0)[None, ...],\n",
    "    obs,\n",
    ")\n",
    "obs.shape "
   ]
  },
  {
   "cell_type": "code",
   "execution_count": 28,
   "metadata": {},
   "outputs": [],
   "source": [
    "network = ActorCritic(env.action_space(env_params).n)"
   ]
  },
  {
   "cell_type": "code",
   "execution_count": 29,
   "metadata": {},
   "outputs": [
    {
     "data": {
      "text/plain": [
       "((32, 512), (32, 512))"
      ]
     },
     "execution_count": 29,
     "metadata": {},
     "output_type": "execute_result"
    }
   ],
   "source": [
    "ActorCritic.initialize_carry((32,))[0].shape, ActorCritic.initialize_carry((32,))[1].shape"
   ]
  },
  {
   "cell_type": "code",
   "execution_count": 30,
   "metadata": {},
   "outputs": [],
   "source": [
    "network_params = network.init(\n",
    "        rng, \n",
    "        (obs, jnp.zeros((1, 32, ))), \n",
    "        ActorCritic.initialize_carry((32,))\n",
    "    )"
   ]
  },
  {
   "cell_type": "code",
   "execution_count": null,
   "metadata": {},
   "outputs": [],
   "source": []
  },
  {
   "cell_type": "code",
   "execution_count": 18,
   "metadata": {},
   "outputs": [
    {
     "data": {
      "text/plain": [
       "dict_keys(['hf', 'hg', 'hi', 'ho', 'if', 'ig', 'ii', 'io'])"
      ]
     },
     "execution_count": 18,
     "metadata": {},
     "output_type": "execute_result"
    }
   ],
   "source": [
    "network_params['params']['OptimizedLSTMCell_0'].keys()"
   ]
  },
  {
   "cell_type": "code",
   "execution_count": null,
   "metadata": {},
   "outputs": [],
   "source": []
  }
 ],
 "metadata": {
  "kernelspec": {
   "display_name": "cloudspace",
   "language": "python",
   "name": "python3"
  },
  "language_info": {
   "codemirror_mode": {
    "name": "ipython",
    "version": 3
   },
   "file_extension": ".py",
   "mimetype": "text/x-python",
   "name": "python",
   "nbconvert_exporter": "python",
   "pygments_lexer": "ipython3",
   "version": "3.10.10"
  }
 },
 "nbformat": 4,
 "nbformat_minor": 2
}
