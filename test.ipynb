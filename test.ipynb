{
 "cells": [
  {
   "cell_type": "code",
   "execution_count": 1,
   "metadata": {},
   "outputs": [],
   "source": [
    "%load_ext autoreload\n",
    "%autoreload 2 "
   ]
  },
  {
   "cell_type": "code",
   "execution_count": 2,
   "metadata": {},
   "outputs": [
    {
     "name": "stdout",
     "output_type": "stream",
     "text": [
      "Loading textures from cache.\n",
      "Textures successfully loaded from cache.\n"
     ]
    }
   ],
   "source": [
    "import jax \n",
    "import jax.numpy as jnp \n",
    "import chex\n",
    "import optax \n",
    "\n",
    "from craftax.craftax.envs.craftax_symbolic_env import CraftaxSymbolicEnv\n",
    "from craftax.craftax.renderer import render_craftax_pixels as render_pixels\n",
    "from craftax.craftax.world_gen.world_gen import generate_world as generate_world_craftax\n",
    "\n",
    "from examples.craftax.craftax_plr import ActorCritic, TrainState, compute_ued_score, compute_max_returns\n",
    "from examples.craftax.craftax_wrappers import LogWrapper\n",
    "\n",
    "from craftax.craftax.constants import Achievement\n",
    "from jaxued.wrappers import AutoReplayWrapper\n",
    "from jaxued.level_sampler import LevelSampler \n",
    "\n",
    "from examples.craftax.craftax_plr import sample_trajectories_and_learn"
   ]
  },
  {
   "cell_type": "markdown",
   "metadata": {},
   "source": [
    "# Setup \n",
    "*** "
   ]
  },
  {
   "cell_type": "code",
   "execution_count": 3,
   "metadata": {},
   "outputs": [],
   "source": [
    "config = {\n",
    "    'num_train_envs':4, \n",
    "    \"level_buffer_capacity\":100,\n",
    "    \"replay_prob\":0.8,\n",
    "    \"staleness_coeff\":0.3,\n",
    "    \"minimum_fill_ratio\":0.1,\n",
    "    \"prioritization\":\"rank\",\n",
    "    \"temperature\":1.0,\n",
    "    \"topk_k\":0.3,\n",
    "    \"max_grad_norm\":1,\n",
    "    \"buffer_duplicate_check\":True,\n",
    "    \"exploratory_grad_updates\":False,\n",
    "    \"outer_rollout_steps\":64,\n",
    "    \"num_steps\":64,\n",
    "    \"gamma\":0.99,\n",
    "    \"gae_lambda\":0.9,\n",
    "    \"num_minibatches\":2,\n",
    "    \"epoch_ppo\":5,\n",
    "    \"clip_eps\":0.2,\n",
    "    \"entropy_coeff\":0.01,\n",
    "    \"critic_coeff\":0.2,\n",
    "    \"num_updates\":10,\n",
    "    \"lr\":3e-04,\n",
    "    \"score_function\":\"MaxMC\",\n",
    "    \"eval_freq\":5,\n",
    "    \"use_accel\":True,\n",
    "    \"num_edits\":1,\n",
    "}"
   ]
  },
  {
   "cell_type": "code",
   "execution_count": 4,
   "metadata": {},
   "outputs": [],
   "source": [
    "ENV_CLASS = CraftaxSymbolicEnv\n",
    "generate_world = generate_world_craftax\n",
    "render_craftax_pixels = render_pixels"
   ]
  },
  {
   "cell_type": "code",
   "execution_count": 5,
   "metadata": {},
   "outputs": [],
   "source": [
    "DEFAULT_STATICS = ENV_CLASS.default_static_params()\n",
    "default_env = ENV_CLASS(DEFAULT_STATICS)\n",
    "env = LogWrapper(default_env)\n",
    "env = AutoReplayWrapper(env)\n",
    "env_params = env.default_params"
   ]
  },
  {
   "cell_type": "code",
   "execution_count": 6,
   "metadata": {},
   "outputs": [
    {
     "data": {
      "text/plain": [
       "(jaxued.wrappers.autoreplay.AutoReplayWrapper,\n",
       " examples.craftax.craftax_wrappers.LogWrapper,\n",
       " craftax.craftax.envs.craftax_symbolic_env.CraftaxSymbolicEnv)"
      ]
     },
     "execution_count": 6,
     "metadata": {},
     "output_type": "execute_result"
    }
   ],
   "source": [
    "type(env), type(env._env), type(env._env._env)"
   ]
  },
  {
   "cell_type": "code",
   "execution_count": 7,
   "metadata": {},
   "outputs": [],
   "source": [
    "def sample_random_level(rng):\n",
    "    return generate_world(rng, env.default_params, DEFAULT_STATICS)"
   ]
  },
  {
   "cell_type": "code",
   "execution_count": 8,
   "metadata": {},
   "outputs": [
    {
     "name": "stdout",
     "output_type": "stream",
     "text": [
      "<class 'craftax.craftax.craftax_state.EnvState'>\n"
     ]
    }
   ],
   "source": [
    "rng = jax.random.PRNGKey(1)\n",
    "\n",
    "rng, rng_levels, rng_reset = jax.random.split(rng, 3)\n",
    "new_levels = jax.vmap(sample_random_level)(\n",
    "    jax.random.split(rng_levels, config[\"num_train_envs\"])\n",
    ")\n",
    "print(type(new_levels))\n"
   ]
  },
  {
   "cell_type": "code",
   "execution_count": 9,
   "metadata": {},
   "outputs": [],
   "source": [
    "init_obs, init_env_state = jax.vmap(\n",
    "    env.reset_to_level, in_axes=(0, 0, None)\n",
    ")(\n",
    "    jax.random.split(rng_reset, config[\"num_train_envs\"]),\n",
    "    new_levels,\n",
    "    env_params,\n",
    ")"
   ]
  },
  {
   "cell_type": "code",
   "execution_count": 10,
   "metadata": {},
   "outputs": [
    {
     "name": "stdout",
     "output_type": "stream",
     "text": [
      "(4, 8268)\n"
     ]
    }
   ],
   "source": [
    "print(init_obs.shape)"
   ]
  },
  {
   "cell_type": "code",
   "execution_count": 11,
   "metadata": {},
   "outputs": [
    {
     "data": {
      "text/plain": [
       "{'1': Array([1], dtype=int32)}"
      ]
     },
     "execution_count": 11,
     "metadata": {},
     "output_type": "execute_result"
    }
   ],
   "source": [
    "{'1':jnp.array([1])}"
   ]
  },
  {
   "cell_type": "markdown",
   "metadata": {},
   "source": [
    "## Utils \n"
   ]
  },
  {
   "cell_type": "code",
   "execution_count": 12,
   "metadata": {},
   "outputs": [],
   "source": [
    "level_sampler = LevelSampler(\n",
    "    capacity=config[\"level_buffer_capacity\"],\n",
    "    replay_prob=config[\"replay_prob\"],\n",
    "    staleness_coeff=config[\"staleness_coeff\"],\n",
    "    minimum_fill_ratio=config[\"minimum_fill_ratio\"],\n",
    "    prioritization=config[\"prioritization\"],\n",
    "    prioritization_params={\n",
    "        \"temperature\": config[\"temperature\"],\n",
    "        \"k\": config[\"topk_k\"],\n",
    "    },\n",
    "    duplicate_check=config[\"buffer_duplicate_check\"],\n",
    ")\n",
    "\n",
    "\n",
    "@jax.jit\n",
    "def create_train_state(rng) -> TrainState:\n",
    "    # Creates the train state\n",
    "    def linear_schedule(count):\n",
    "        frac = 1.0 - (\n",
    "            count // (config[\"num_minibatches\"] * config[\"epoch_ppo\"])\n",
    "        ) / (config[\"num_updates\"] * config[\"outer_rollout_steps\"])\n",
    "        return config[\"lr\"] * frac\n",
    "\n",
    "    obs, _ = env.reset_to_level(rng, sample_random_level(rng), env_params)\n",
    "    obs = jax.tree_util.tree_map(\n",
    "        lambda x: jnp.repeat(\n",
    "            x[None, ...], \n",
    "            config[\"num_train_envs\"], \n",
    "            axis=0\n",
    "        )[None, ...],\n",
    "        obs,\n",
    "    )\n",
    "    init_x = (\n",
    "        obs, \n",
    "        jnp.zeros(\n",
    "            (1, config[\"num_train_envs\"],), \n",
    "            dtype=jnp.bool\n",
    "        )\n",
    "    )\n",
    "    #print(f\"init: {init_x[0].shape}, {init_x[1].shape}\")\n",
    "    network = ActorCritic(env.action_space(env_params).n)\n",
    "    network_params = network.init(\n",
    "        rng, \n",
    "        init_x,\n",
    "        ActorCritic.initialize_carry((config[\"num_train_envs\"],))\n",
    "    )\n",
    "    tx = optax.chain(\n",
    "        optax.clip_by_global_norm(config[\"max_grad_norm\"]),\n",
    "            optax.adam(learning_rate=linear_schedule, eps=1e-5),\n",
    "        )\n",
    "    pholder_level = sample_random_level(jax.random.PRNGKey(0))\n",
    "    sampler = level_sampler.initialize(pholder_level, {\"max_return\": -jnp.inf})\n",
    "    pholder_level_batch = jax.tree_util.tree_map(\n",
    "        lambda x: jnp.array([x]).repeat(config[\"num_train_envs\"], axis=0),\n",
    "        pholder_level,\n",
    "    )\n",
    "    return TrainState.create(\n",
    "        apply_fn=network.apply,\n",
    "        params=network_params,\n",
    "        tx=tx,\n",
    "        sampler=sampler,\n",
    "        update_state=0,\n",
    "        num_dr_updates=0,\n",
    "        num_replay_updates=0,\n",
    "        num_mutation_updates=0,\n",
    "        dr_last_level_batch=pholder_level_batch,\n",
    "        replay_last_level_batch=pholder_level_batch,\n",
    "        mutation_last_level_batch=pholder_level_batch,\n",
    "    )\n",
    "\n",
    "\n",
    "from typing import Tuple \n",
    "from examples.craftax.craftax_plr import UpdateState \n",
    "from examples.craftax.mutators import make_mutator_craftax_claude_35_easy_hard\n",
    "mutate_level = make_mutator_craftax_claude_35_easy_hard()\n",
    "\n",
    "def train_step(carry: Tuple[chex.PRNGKey, TrainState], _):\n",
    "        \"\"\"\n",
    "        This is the main training loop. It basically calls either `on_new_levels`, `on_replay_levels`, or `on_mutate_levels` at every step.\n",
    "        \"\"\"\n",
    "\n",
    "        def on_new_levels(rng: chex.PRNGKey, train_state: TrainState):\n",
    "            \"\"\"\n",
    "            Samples new (randomly-generated) levels and evaluates the policy on these. It also then adds the levels to the level buffer if they have high-enough scores.\n",
    "            The agent is updated on these trajectories iff `config[\"exploratory_grad_updates\"]` is True.\n",
    "            \"\"\"\n",
    "            sampler = train_state.sampler\n",
    "\n",
    "            # Reset\n",
    "            rng, rng_levels, rng_reset = jax.random.split(rng, 3)\n",
    "            new_levels = jax.vmap(sample_random_level)(\n",
    "                jax.random.split(rng_levels, config[\"num_train_envs\"])\n",
    "            )\n",
    "            init_obs, init_env_state = jax.vmap(\n",
    "                env.reset_to_level, in_axes=(0, 0, None)\n",
    "            )(\n",
    "                jax.random.split(rng_reset, config[\"num_train_envs\"]),\n",
    "                new_levels,\n",
    "                env_params,\n",
    "            )\n",
    "            #print(f\"#### TRAIN init_obs: {init_obs.shape}\")\n",
    "            # Rollout\n",
    "            (\n",
    "                (rng, train_state, _, _, _),\n",
    "                (\n",
    "                    _,\n",
    "                    _,\n",
    "                    rewards,\n",
    "                    dones,\n",
    "                    _,\n",
    "                    values,\n",
    "                    info,\n",
    "                    advantages,\n",
    "                    _,\n",
    "                    losses,\n",
    "                    grad_norms,\n",
    "                ),\n",
    "            ) = sample_trajectories_and_learn(\n",
    "                env,\n",
    "                env_params,\n",
    "                config,\n",
    "                rng,\n",
    "                train_state,\n",
    "                ActorCritic.initialize_carry((config[\"num_train_envs\"],)),\n",
    "                init_obs,\n",
    "                init_env_state,\n",
    "                update_grad=config[\"exploratory_grad_updates\"],\n",
    "            )\n",
    "            # dones (total_steps, num_train_envs)\n",
    "            # rewards (total_steps, num_train_envs)\n",
    "            max_returns = compute_max_returns(dones, rewards)\n",
    "            scores = compute_ued_score(config, dones, values, max_returns, advantages)\n",
    "            sampler, _ = level_sampler.insert_batch(\n",
    "                sampler, new_levels, scores, {\"max_return\": max_returns}\n",
    "            )\n",
    "            \n",
    "            achievement_per_done_exp = ((info[\"achievements\"] * dones[..., None]).sum(axis=0).sum(axis=0))/ dones.sum()\n",
    "            metrics = {\n",
    "                \"losses\": jax.tree_util.tree_map(lambda x: x.mean(), losses),\n",
    "                \"achievements\": achievement_per_done_exp,\n",
    "                \"achievement_count\": (info[\"achievement_count\"] * dones).sum()/ dones.sum(),\n",
    "                \"mean_returned_episode_length\": (info[\"returned_episode_lengths\"] * dones).sum()/ dones.sum(),\n",
    "                \"max_returned_episode_length\": info[\"returned_episode_lengths\"].max(),\n",
    "                \"levels_played\": init_env_state.env_state,\n",
    "                \"mean_returns\": (info[\"returned_episode_returns\"] * dones).sum()/ dones.sum(),\n",
    "                \"grad_norms\": grad_norms.mean(),\n",
    "                \"scores\": scores,\n",
    "                \"stage\":0,\n",
    "            }\n",
    "\n",
    "            train_state = train_state.replace(\n",
    "                sampler=sampler,\n",
    "                update_state=UpdateState.DR,\n",
    "                num_dr_updates=train_state.num_dr_updates + 1,\n",
    "                dr_last_level_batch=new_levels,\n",
    "            )\n",
    "            return (rng, train_state), metrics\n",
    "\n",
    "        def on_replay_levels(rng: chex.PRNGKey, train_state: TrainState):\n",
    "            \"\"\"\n",
    "            This samples levels from the level buffer, and updates the policy on them.\n",
    "            \"\"\"\n",
    "            sampler = train_state.sampler\n",
    "\n",
    "            # Collect trajectories on replay levels\n",
    "            rng, rng_levels, rng_reset = jax.random.split(rng, 3)\n",
    "            sampler, (level_inds, levels) = level_sampler.sample_replay_levels(\n",
    "                sampler, rng_levels, config[\"num_train_envs\"]\n",
    "            )\n",
    "            init_obs, init_env_state = jax.vmap(\n",
    "                env.reset_to_level, in_axes=(0, 0, None)\n",
    "            )(jax.random.split(rng_reset, config[\"num_train_envs\"]), levels, env_params)\n",
    "            # Rollout\n",
    "            (\n",
    "                (rng, train_state, _, _, _),\n",
    "                (\n",
    "                    _,\n",
    "                    _,\n",
    "                    rewards,\n",
    "                    dones,\n",
    "                    _,\n",
    "                    values,\n",
    "                    info,\n",
    "                    advantages,\n",
    "                    _,\n",
    "                    losses,\n",
    "                    grad_norms,\n",
    "                ),\n",
    "            ) = sample_trajectories_and_learn(\n",
    "                env,\n",
    "                env_params,\n",
    "                config,\n",
    "                rng,\n",
    "                train_state,\n",
    "                ActorCritic.initialize_carry((config[\"num_train_envs\"],)),\n",
    "                init_obs,\n",
    "                init_env_state,\n",
    "                update_grad=True,\n",
    "            )\n",
    "\n",
    "            max_returns = jnp.maximum(\n",
    "                level_sampler.get_levels_extra(sampler, level_inds)[\"max_return\"],\n",
    "                compute_max_returns(dones, rewards),\n",
    "            )\n",
    "            scores = compute_ued_score(config, dones, values, max_returns, advantages) #(num_train_envs,)\n",
    "            sampler = level_sampler.update_batch(\n",
    "                sampler, level_inds, scores, {\"max_return\": max_returns}\n",
    "            )\n",
    "\n",
    "            achievement_per_done_exp = ((info[\"achievements\"] * dones[..., None]).sum(axis=0).sum(axis=0))/ dones.sum()\n",
    "            metrics = {\n",
    "                \"losses\": jax.tree_util.tree_map(lambda x: x.mean(), losses),  # this is a tuple of losses\n",
    "                \"achievements\": achievement_per_done_exp, # this is not a scalar    \n",
    "                \"achievement_count\": (info[\"achievement_count\"] * dones).sum()/ dones.sum(),\n",
    "                \"mean_returned_episode_length\": (info[\"returned_episode_lengths\"] * dones).sum()/ dones.sum(),\n",
    "                \"max_returned_episode_length\": info[\"returned_episode_lengths\"].max(),\n",
    "                \"levels_played\": init_env_state.env_state,\n",
    "                \"mean_returns\": (info[\"returned_episode_returns\"] * dones).sum()/ dones.sum(),\n",
    "                \"grad_norms\": grad_norms.mean(),\n",
    "                \"scores\": scores,\n",
    "                \"stage\":1,\n",
    "            }\n",
    "\n",
    "            train_state = train_state.replace(\n",
    "                sampler=sampler,\n",
    "                update_state=UpdateState.REPLAY,\n",
    "                num_replay_updates=train_state.num_replay_updates + 1,\n",
    "                replay_last_level_batch=levels,\n",
    "            )\n",
    "            return (rng, train_state), metrics\n",
    "\n",
    "        def on_mutate_levels(rng: chex.PRNGKey, train_state: TrainState):\n",
    "            \"\"\"\n",
    "            This mutates the previous batch of replay levels and potentially adds them to the level buffer.\n",
    "            This also updates the policy iff `config[\"exploratory_grad_updates\"]` is True.\n",
    "            \"\"\"\n",
    "            sampler = train_state.sampler\n",
    "            rng, rng_mutate, rng_reset = jax.random.split(rng, 3)\n",
    "\n",
    "            # mutate\n",
    "            parent_levels = train_state.replay_last_level_batch\n",
    "            child_levels = jax.vmap(mutate_level, (0, 0, None))(\n",
    "                jax.random.split(rng_mutate, config[\"num_train_envs\"]),\n",
    "                parent_levels,\n",
    "                config[\"num_edits\"],\n",
    "            )\n",
    "            init_obs, init_env_state = jax.vmap(\n",
    "                env.reset_to_level, in_axes=(0, 0, None)\n",
    "            )(\n",
    "                jax.random.split(rng_reset, config[\"num_train_envs\"]),\n",
    "                child_levels,\n",
    "                env_params,\n",
    "            )\n",
    "\n",
    "            # Rollout\n",
    "            (\n",
    "                (rng, train_state, _, _, _),\n",
    "                (\n",
    "                    _,\n",
    "                    _,\n",
    "                    rewards,\n",
    "                    dones,\n",
    "                    _,\n",
    "                    values,\n",
    "                    info,\n",
    "                    advantages,\n",
    "                    _,\n",
    "                    losses,\n",
    "                    grad_norms,\n",
    "                ),\n",
    "            ) = sample_trajectories_and_learn(\n",
    "                env,\n",
    "                env_params,\n",
    "                config,\n",
    "                rng,\n",
    "                train_state,\n",
    "                ActorCritic.initialize_carry((config[\"num_train_envs\"],)),\n",
    "                init_obs,\n",
    "                init_env_state,\n",
    "                update_grad=config[\"exploratory_grad_updates\"],\n",
    "            )\n",
    "\n",
    "            max_returns = compute_max_returns(dones, rewards)\n",
    "            scores = compute_ued_score(config, dones, values, max_returns, advantages)\n",
    "            sampler, _ = level_sampler.insert_batch(\n",
    "                sampler, child_levels, scores, {\"max_return\": max_returns}\n",
    "            )\n",
    "\n",
    "            achievement_per_done_exp = ((info[\"achievements\"] * dones[..., None]).sum(axis=0).sum(axis=0))/ dones.sum()\n",
    "            metrics = {\n",
    "                \"losses\": jax.tree_util.tree_map(lambda x: x.mean(), losses),\n",
    "                \"achievements\": achievement_per_done_exp,\n",
    "                \"achievement_count\": (info[\"achievement_count\"] * dones).sum()/ dones.sum(),\n",
    "                \"mean_returned_episode_length\": (info[\"returned_episode_lengths\"] * dones).sum() / dones.sum(),\n",
    "                \"max_returned_episode_length\": info[\"returned_episode_lengths\"].max(),\n",
    "                \"levels_played\": init_env_state.env_state,\n",
    "                \"mean_returns\": (info[\"returned_episode_returns\"] * dones).sum()/ dones.sum(),\n",
    "                \"grad_norms\": grad_norms.mean(),\n",
    "                \"scores\": scores,\n",
    "                \"stage\":2,\n",
    "            }\n",
    "\n",
    "            train_state = train_state.replace(\n",
    "                sampler=sampler,\n",
    "                update_state=UpdateState.DR,\n",
    "                num_mutation_updates=train_state.num_mutation_updates + 1,\n",
    "                mutation_last_level_batch=child_levels,\n",
    "            )\n",
    "            return (rng, train_state), metrics\n",
    "\n",
    "        rng, train_state = carry\n",
    "        rng, rng_replay = jax.random.split(rng)\n",
    "\n",
    "        # The train step makes a decision on which branch to take, either on_new, on_replay or on_mutate.\n",
    "        # on_mutate is only called if the replay branch has been taken before (as it uses `train_state.update_state`).\n",
    "        branches = [\n",
    "            on_new_levels,\n",
    "            on_replay_levels,\n",
    "        ]\n",
    "        if config[\"use_accel\"]:\n",
    "            s = train_state.update_state\n",
    "            branch = (1 - s) * level_sampler.sample_replay_decision(\n",
    "                train_state.sampler, rng_replay\n",
    "            ) + 2 * s\n",
    "            branches.append(on_mutate_levels)\n",
    "        else:\n",
    "            branch = level_sampler.sample_replay_decision(\n",
    "                train_state.sampler, rng_replay\n",
    "            ).astype(int)\n",
    "\n",
    "        return jax.lax.switch(branch, branches, rng, train_state)"
   ]
  },
  {
   "cell_type": "markdown",
   "metadata": {},
   "source": [
    "## Testing "
   ]
  },
  {
   "cell_type": "code",
   "execution_count": 13,
   "metadata": {},
   "outputs": [],
   "source": [
    "train_state: TrainState = create_train_state(rng)\n",
    "rng, subrng = jax.random.split(rng)"
   ]
  },
  {
   "cell_type": "code",
   "execution_count": 14,
   "metadata": {},
   "outputs": [
    {
     "name": "stdout",
     "output_type": "stream",
     "text": [
      "(4, 8268)\n"
     ]
    }
   ],
   "source": [
    "print(init_obs.shape)"
   ]
  },
  {
   "cell_type": "code",
   "execution_count": 15,
   "metadata": {},
   "outputs": [],
   "source": [
    "rng_init, rng_train = jax.random.split(rng)\n",
    "\n",
    "runner_state = (rng_train, train_state)\n",
    "(rng, train_state), metrics = jax.lax.scan(\n",
    "    train_step, runner_state, None, config[\"eval_freq\"]\n",
    ")"
   ]
  },
  {
   "cell_type": "code",
   "execution_count": 16,
   "metadata": {},
   "outputs": [],
   "source": [
    "#metrics"
   ]
  },
  {
   "cell_type": "code",
   "execution_count": 17,
   "metadata": {},
   "outputs": [],
   "source": [
    "import numpy as np\n",
    "\n",
    "def log_train_eval(stats:chex.ArrayTree, train_state_info:chex.ArrayTree):\n",
    "        \"\"\"stats is nothing but the metrics from the eval and train loop\n",
    "\n",
    "        Args:\n",
    "            stats (chex.ArrayTree): _description_\n",
    "            train_state_info (chex.ArrayTree): _description_\n",
    "        \"\"\"\n",
    "        #print(f\"Logging update: {stats['update_count']}\")\n",
    "        stats.pop(\"levels_played\", None)\n",
    "\n",
    "        # generic stats\n",
    "        # env_steps = (\n",
    "        #     stats[\"update_count\"]\n",
    "        #     * config[\"num_train_envs\"]\n",
    "        #     * config[\"num_steps\"]\n",
    "        #     * config[\"outer_rollout_steps\"]\n",
    "        # )\n",
    "        # env_steps_delta = (\n",
    "        #     config[\"eval_freq\"]\n",
    "        #     * config[\"num_train_envs\"]\n",
    "        #     * config[\"num_steps\"]\n",
    "        #     * config[\"outer_rollout_steps\"]\n",
    "        # )\n",
    "        log_dict = {}\n",
    "        def _get_stage_train_metrics(stats_:chex.ArrayTree, stage_:int) -> chex.ArrayTree:\n",
    "            print(f\"stage_{stage_}\")\n",
    "            prefix = {\n",
    "                0: \"gen\",\n",
    "                1: \"replay\",\n",
    "                2: \"mutation\",\n",
    "            }[stage_]\n",
    "\n",
    "            stage_selector = stats_[\"stage\"] == stage_\n",
    "            if stage_selector.sum() == 0:\n",
    "                return {}\n",
    "            stage_stats = {}\n",
    "            for k, v in stats.items():\n",
    "                if k in {\n",
    "                    \"achievements\",\n",
    "                    \"achievement_count\",\n",
    "                    \"grad_norms\",\n",
    "                    \"mean_returned_episode_lengths\",\n",
    "                    \"max_returned_episode_length\",\n",
    "                    \"mean_returns\",\n",
    "                    \"scores\",\n",
    "                }:\n",
    "                    print(k, v.shape)\n",
    "                    if \"max\" in k:\n",
    "                        stage_stats[f\"{prefix}/{k}\"] = v[stage_selector].max(axis=0)\n",
    "                    elif k == \"scores\":\n",
    "                        stage_stats[f\"{prefix}/{k}\"] = v[stage_selector].mean()\n",
    "                    else:\n",
    "                        stage_stats[f\"{prefix}/{k}\"] = v[stage_selector].mean(axis=0)\n",
    "\n",
    "            stage_stats.update(\n",
    "                jax.tree_util.tree_map(\n",
    "                    lambda idx: stage_stats[f\"{prefix}/achievements\"].at[idx].get(),\n",
    "                    {\n",
    "                        f\"achievements_{ac.name.lower()}\" : ac.value \\\n",
    "                        for ac in Achievement\n",
    "                    }\n",
    "                )\n",
    "            )\n",
    "            del stage_stats[f\"{prefix}/achievements\"]\n",
    "            del stage_selector\n",
    "\n",
    "            return stage_stats\n",
    "\n",
    "        # train performance \n",
    "        #### random \n",
    "        log_dict.update(\n",
    "            _get_stage_train_metrics(stats, 0)\n",
    "        )\n",
    "\n",
    "        #### replay \n",
    "        log_dict.update(\n",
    "            _get_stage_train_metrics(stats, 1)\n",
    "        )\n",
    "\n",
    "        #### mutate \n",
    "        if config['use_accel']:\n",
    "            log_dict.update(\n",
    "                _get_stage_train_metrics(stats, 2)\n",
    "            )\n",
    "\n",
    "        # evaluation performance\n",
    "        # returns = stats[\"eval_returns\"]\n",
    "        # # return \n",
    "        # log_dict.update({\"eval/mean_returns\": returns.mean()})\n",
    "        # log_dict.update({\"eval/max_returns\": returns.max()})  \n",
    "        # log_dict.update({\"eval/min_returns\": returns.min()})\n",
    "\n",
    "        # # eps length\n",
    "        # log_dict.update({\"eval/mean_ep_lengths\": stats[\"eval_ep_lengths\"].mean()})\n",
    "        # log_dict.update({\"eval/max_ep_lengths\": stats[\"eval_ep_lengths\"].max()})\n",
    "        # log_dict.update({\"eval/min_ep_lengths\": stats[\"eval_ep_lengths\"].min()})\n",
    "\n",
    "        # # achievements\n",
    "        # log_dict.update(\n",
    "        #     jax.tree_util.tree_map(\n",
    "        #         lambda idx: stats[\"eval_achievements\"].at[idx].get(),\n",
    "        #         {\n",
    "        #             f\"eval/achievements_{ac.name.lower()}\" : ac.value \\\n",
    "        #             for ac in Achievement\n",
    "        #         }\n",
    "        #     )\n",
    "        # )\n",
    "\n",
    "        # level sampler\n",
    "        #log_dict.update(train_state_info[\"log\"])\n",
    "\n",
    "        # # images\n",
    "        # log_dict.update(\n",
    "        #     {\n",
    "        #         \"images/highest_scoring_level\": wandb.Image(\n",
    "        #             np.array(stats[\"highest_scoring_level\"]),\n",
    "        #             caption=\"Highest scoring level\",\n",
    "        #         )\n",
    "        #     }\n",
    "        # )\n",
    "        # log_dict.update(\n",
    "        #     {\n",
    "        #         \"images/highest_weighted_level\": wandb.Image(\n",
    "        #             np.array(stats[\"highest_weighted_level\"]),\n",
    "        #             caption=\"Highest weighted level\",\n",
    "        #         )\n",
    "        #     }\n",
    "        # )\n",
    "\n",
    "        # for s in [\"dr\", \"replay\", \"mutation\"]:\n",
    "        #     if train_state_info[\"info\"][f\"num_{s}_updates\"] > 0:\n",
    "        #         log_dict.update(\n",
    "        #             {\n",
    "        #                 f\"images/{s}_levels\": [\n",
    "        #                     wandb.Image(np.array(image))\n",
    "        #                     for image in stats[f\"{s}_levels\"]\n",
    "        #                 ]\n",
    "        #             }\n",
    "        #         )\n",
    "\n",
    "        # i = 0\n",
    "        # frames, episode_length = (\n",
    "        #     stats[\"eval_animation\"][0][:, i],\n",
    "        #     stats[\"eval_animation\"][1][i],\n",
    "        # )\n",
    "        # frames = np.array(frames[:episode_length])\n",
    "        # log_dict.update({f\"animations/animation\": wandb.Video(frames, fps=4)})\n",
    "        return log_dict "
   ]
  },
  {
   "cell_type": "code",
   "execution_count": null,
   "metadata": {},
   "outputs": [
    {
     "name": "stdout",
     "output_type": "stream",
     "text": [
      "stage_0\n"
     ]
    }
   ],
   "source": [
    "log_dict_ = log_train_eval(metrics, train_state)"
   ]
  },
  {
   "cell_type": "code",
   "execution_count": 247,
   "metadata": {},
   "outputs": [],
   "source": [
    "(\n",
    "    (rng, train_state, _, _, _),\n",
    "    (\n",
    "        _,\n",
    "        _,\n",
    "        rewards,\n",
    "        dones,\n",
    "        _,\n",
    "        values,\n",
    "        info,\n",
    "        advantages,\n",
    "        _,\n",
    "        losses,\n",
    "        grad_norms,\n",
    "    ),\n",
    ") = sample_trajectories_and_learn(\n",
    "    env,\n",
    "    env_params,\n",
    "    config,\n",
    "    rng,\n",
    "    train_state,\n",
    "    ActorCritic.initialize_carry((config[\"num_train_envs\"],)),\n",
    "    init_obs,\n",
    "    init_env_state,\n",
    "    update_grad=config[\"exploratory_grad_updates\"],\n",
    ")"
   ]
  },
  {
   "cell_type": "code",
   "execution_count": 249,
   "metadata": {},
   "outputs": [],
   "source": [
    "max_returns = jnp.maximum(\n",
    "    level_sampler.get_levels_extra(\n",
    "        train_state.sampler, \n",
    "        jnp.full((config[\"num_train_envs\"],), fill_value=-1)\n",
    "    )[\"max_return\"],\n",
    "    compute_max_returns(dones, rewards),\n",
    ")"
   ]
  },
  {
   "cell_type": "code",
   "execution_count": 253,
   "metadata": {},
   "outputs": [
    {
     "data": {
      "text/plain": [
       "(4,)"
      ]
     },
     "execution_count": 253,
     "metadata": {},
     "output_type": "execute_result"
    }
   ],
   "source": [
    "ued_scores = compute_ued_score(\n",
    "    config, \n",
    "    dones, \n",
    "    values, \n",
    "    max_returns=max_returns, \n",
    "    advantages=advantages\n",
    ")\n",
    "ued_scores.shape"
   ]
  },
  {
   "cell_type": "code",
   "execution_count": 41,
   "metadata": {},
   "outputs": [
    {
     "data": {
      "text/plain": [
       "((4096, 4), (4096, 4), (4096, 4), (4096, 4))"
      ]
     },
     "execution_count": 41,
     "metadata": {},
     "output_type": "execute_result"
    }
   ],
   "source": [
    "dones.shape, rewards.shape, values.shape, advantages.shape# done = True (defat both, dead, run out time )"
   ]
  },
  {
   "cell_type": "code",
   "execution_count": null,
   "metadata": {},
   "outputs": [
    {
     "data": {
      "text/plain": [
       "((4096, 4),)"
      ]
     },
     "execution_count": 24,
     "metadata": {},
     "output_type": "execute_result"
    }
   ],
   "source": []
  },
  {
   "cell_type": "code",
   "execution_count": 29,
   "metadata": {},
   "outputs": [
    {
     "data": {
      "text/plain": [
       "(320, 2)"
      ]
     },
     "execution_count": 29,
     "metadata": {},
     "output_type": "execute_result"
    }
   ],
   "source": [
    "losses[0].shape"
   ]
  },
  {
   "cell_type": "code",
   "execution_count": 19,
   "metadata": {},
   "outputs": [
    {
     "data": {
      "text/plain": [
       "Array([False, False, False, False], dtype=bool)"
      ]
     },
     "execution_count": 19,
     "metadata": {},
     "output_type": "execute_result"
    }
   ],
   "source": [
    "dones[-1, :]"
   ]
  },
  {
   "cell_type": "code",
   "execution_count": 81,
   "metadata": {},
   "outputs": [
    {
     "name": "stdout",
     "output_type": "stream",
     "text": [
      "Total number of dones is 62\n"
     ]
    }
   ],
   "source": [
    "dones.mean()\n",
    "print(f\"Total number of dones is {dones.sum()}\")"
   ]
  },
  {
   "cell_type": "code",
   "execution_count": 30,
   "metadata": {},
   "outputs": [
    {
     "data": {
      "text/plain": [
       "(320, 2)"
      ]
     },
     "execution_count": 30,
     "metadata": {},
     "output_type": "execute_result"
    }
   ],
   "source": [
    "grad_norms.shape"
   ]
  },
  {
   "cell_type": "code",
   "execution_count": 238,
   "metadata": {},
   "outputs": [
    {
     "data": {
      "text/plain": [
       "(4096, 4)"
      ]
     },
     "execution_count": 238,
     "metadata": {},
     "output_type": "execute_result"
    }
   ],
   "source": [
    "info[\"floor\"].shape"
   ]
  },
  {
   "cell_type": "code",
   "execution_count": 33,
   "metadata": {},
   "outputs": [
    {
     "data": {
      "text/plain": [
       "(4096, 4)"
      ]
     },
     "execution_count": 33,
     "metadata": {},
     "output_type": "execute_result"
    }
   ],
   "source": [
    "info[\"Achievements/cast_fireball\"].shape"
   ]
  },
  {
   "cell_type": "code",
   "execution_count": 42,
   "metadata": {},
   "outputs": [
    {
     "data": {
      "text/plain": [
       "((4096, 4, 67), (4096, 4))"
      ]
     },
     "execution_count": 42,
     "metadata": {},
     "output_type": "execute_result"
    }
   ],
   "source": [
    "info[\"achievements\"].shape, dones.shape"
   ]
  },
  {
   "cell_type": "code",
   "execution_count": 137,
   "metadata": {},
   "outputs": [
    {
     "name": "stdout",
     "output_type": "stream",
     "text": [
      "23068\n",
      "[30  7  0 22  6  0  0 18  0  0  0  0  0  0  0 56  0  0  0  0  0  0  0  0\n",
      "  0  0  0  0  0  0  0  0  0  0  0  0  0  0  0  0  0  0  0  0  0  0  0  0\n",
      "  0  0  0  0  0  0  0  0  0  0  0  0  0  0  0  0  0  0  0]\n",
      "[0.48387095 0.11290322 0.         0.3548387  0.09677419 0.\n",
      " 0.         0.29032257 0.         0.         0.         0.\n",
      " 0.         0.         0.         0.9032258  0.         0.\n",
      " 0.         0.         0.         0.         0.         0.\n",
      " 0.         0.         0.         0.         0.         0.\n",
      " 0.         0.         0.         0.         0.         0.\n",
      " 0.         0.         0.         0.         0.         0.\n",
      " 0.         0.         0.         0.         0.         0.\n",
      " 0.         0.         0.         0.         0.         0.\n",
      " 0.         0.         0.         0.         0.         0.\n",
      " 0.         0.         0.         0.         0.         0.\n",
      " 0.        ]\n"
     ]
    }
   ],
   "source": [
    "\n",
    "print(info[\"achievements\"].sum())\n",
    "print(\n",
    "    (info[\"achievements\"] * dones[..., None]).sum(axis=0).sum(axis=0) \n",
    ") # this gives the total number of achievements per category\n",
    "achievement_per_exp = (info[\"achievements\"] * dones[..., None]).sum(axis=0).sum(axis=0) / dones.sum()\n",
    "print(\n",
    "    achievement_per_exp\n",
    ") # this gives the total number of achievements for each category, per completed episode"
   ]
  },
  {
   "cell_type": "code",
   "execution_count": 167,
   "metadata": {},
   "outputs": [
    {
     "data": {
      "text/plain": [
       "Array(251.08064, dtype=float32)"
      ]
     },
     "execution_count": 167,
     "metadata": {},
     "output_type": "execute_result"
    }
   ],
   "source": [
    "info[\"returned_episode_lengths\"].sum()/dones.sum()"
   ]
  },
  {
   "cell_type": "code",
   "execution_count": 166,
   "metadata": {},
   "outputs": [
    {
     "data": {
      "text/plain": [
       "Array(15567, dtype=int32)"
      ]
     },
     "execution_count": 166,
     "metadata": {},
     "output_type": "execute_result"
    }
   ],
   "source": [
    "(info[\"returned_episode_lengths\"] * dones).sum()"
   ]
  },
  {
   "cell_type": "code",
   "execution_count": 173,
   "metadata": {},
   "outputs": [
    {
     "data": {
      "text/plain": [
       "(Array(83.2, dtype=float32), Array(83.2, dtype=float32))"
      ]
     },
     "execution_count": 173,
     "metadata": {},
     "output_type": "execute_result"
    }
   ],
   "source": [
    "(info[\"returned_episode_returns\"] * dones).sum(), (info[\"returned_episode_returns\"]).sum()"
   ]
  },
  {
   "cell_type": "code",
   "execution_count": 139,
   "metadata": {},
   "outputs": [
    {
     "data": {
      "text/plain": [
       "Array(600., dtype=float32)"
      ]
     },
     "execution_count": 139,
     "metadata": {},
     "output_type": "execute_result"
    }
   ],
   "source": [
    "info[\"Achievements/collect_drink\"].sum()"
   ]
  },
  {
   "cell_type": "code",
   "execution_count": 77,
   "metadata": {},
   "outputs": [
    {
     "name": "stdout",
     "output_type": "stream",
     "text": [
      "700.0\n",
      "(4096, 4)\n"
     ]
    }
   ],
   "source": [
    "print(info[\"Achievements/place_table\"].sum())\n",
    "print(info[\"Achievements/place_table\"].shape)\n",
    "# such achievemt is calculated using "
   ]
  },
  {
   "cell_type": "code",
   "execution_count": 174,
   "metadata": {},
   "outputs": [
    {
     "data": {
      "text/plain": [
       "(320, 2)"
      ]
     },
     "execution_count": 174,
     "metadata": {},
     "output_type": "execute_result"
    }
   ],
   "source": [
    "grad_norms.shape"
   ]
  },
  {
   "cell_type": "code",
   "execution_count": 133,
   "metadata": {},
   "outputs": [
    {
     "data": {
      "text/plain": [
       "(67,)"
      ]
     },
     "execution_count": 133,
     "metadata": {},
     "output_type": "execute_result"
    }
   ],
   "source": [
    "achievement_per_exp.shape"
   ]
  },
  {
   "cell_type": "code",
   "execution_count": 198,
   "metadata": {},
   "outputs": [
    {
     "data": {
      "text/plain": [
       "{'eval/achievements_cast_fireball': Array(0., dtype=float32),\n",
       " 'eval/achievements_cast_iceball': Array(0., dtype=float32),\n",
       " 'eval/achievements_collect_coal': Array(0., dtype=float32),\n",
       " 'eval/achievements_collect_diamond': Array(0., dtype=float32),\n",
       " 'eval/achievements_collect_drink': Array(0.09677419, dtype=float32),\n",
       " 'eval/achievements_collect_iron': Array(0., dtype=float32),\n",
       " 'eval/achievements_collect_ruby': Array(0., dtype=float32),\n",
       " 'eval/achievements_collect_sapling': Array(0.3548387, dtype=float32),\n",
       " 'eval/achievements_collect_sapphire': Array(0., dtype=float32),\n",
       " 'eval/achievements_collect_stone': Array(0., dtype=float32),\n",
       " 'eval/achievements_collect_wood': Array(0.48387095, dtype=float32),\n",
       " 'eval/achievements_damage_necromancer': Array(0., dtype=float32),\n",
       " 'eval/achievements_defeat_archer': Array(0., dtype=float32),\n",
       " 'eval/achievements_defeat_deep_thing': Array(0., dtype=float32),\n",
       " 'eval/achievements_defeat_fire_elemental': Array(0., dtype=float32),\n",
       " 'eval/achievements_defeat_frost_troll': Array(0., dtype=float32),\n",
       " 'eval/achievements_defeat_gnome_archer': Array(0., dtype=float32),\n",
       " 'eval/achievements_defeat_gnome_warrior': Array(0., dtype=float32),\n",
       " 'eval/achievements_defeat_ice_elemental': Array(0., dtype=float32),\n",
       " 'eval/achievements_defeat_knight': Array(0., dtype=float32),\n",
       " 'eval/achievements_defeat_kobold': Array(0., dtype=float32),\n",
       " 'eval/achievements_defeat_lizard': Array(0., dtype=float32),\n",
       " 'eval/achievements_defeat_necromancer': Array(0., dtype=float32),\n",
       " 'eval/achievements_defeat_orc_mage': Array(0., dtype=float32),\n",
       " 'eval/achievements_defeat_orc_solider': Array(0., dtype=float32),\n",
       " 'eval/achievements_defeat_pigman': Array(0., dtype=float32),\n",
       " 'eval/achievements_defeat_skeleton': Array(0., dtype=float32),\n",
       " 'eval/achievements_defeat_troll': Array(0., dtype=float32),\n",
       " 'eval/achievements_defeat_zombie': Array(0., dtype=float32),\n",
       " 'eval/achievements_drink_potion': Array(0., dtype=float32),\n",
       " 'eval/achievements_eat_bat': Array(0., dtype=float32),\n",
       " 'eval/achievements_eat_cow': Array(0., dtype=float32),\n",
       " 'eval/achievements_eat_plant': Array(0., dtype=float32),\n",
       " 'eval/achievements_eat_snail': Array(0., dtype=float32),\n",
       " 'eval/achievements_enchant_armour': Array(0., dtype=float32),\n",
       " 'eval/achievements_enchant_sword': Array(0., dtype=float32),\n",
       " 'eval/achievements_enter_dungeon': Array(0., dtype=float32),\n",
       " 'eval/achievements_enter_fire_realm': Array(0., dtype=float32),\n",
       " 'eval/achievements_enter_gnomish_mines': Array(0., dtype=float32),\n",
       " 'eval/achievements_enter_graveyard': Array(0., dtype=float32),\n",
       " 'eval/achievements_enter_ice_realm': Array(0., dtype=float32),\n",
       " 'eval/achievements_enter_sewers': Array(0., dtype=float32),\n",
       " 'eval/achievements_enter_troll_mines': Array(0., dtype=float32),\n",
       " 'eval/achievements_enter_vault': Array(0., dtype=float32),\n",
       " 'eval/achievements_find_bow': Array(0., dtype=float32),\n",
       " 'eval/achievements_fire_bow': Array(0., dtype=float32),\n",
       " 'eval/achievements_learn_fireball': Array(0., dtype=float32),\n",
       " 'eval/achievements_learn_iceball': Array(0., dtype=float32),\n",
       " 'eval/achievements_make_arrow': Array(0., dtype=float32),\n",
       " 'eval/achievements_make_diamond_armour': Array(0., dtype=float32),\n",
       " 'eval/achievements_make_diamond_pickaxe': Array(0., dtype=float32),\n",
       " 'eval/achievements_make_diamond_sword': Array(0., dtype=float32),\n",
       " 'eval/achievements_make_iron_armour': Array(0., dtype=float32),\n",
       " 'eval/achievements_make_iron_pickaxe': Array(0., dtype=float32),\n",
       " 'eval/achievements_make_iron_sword': Array(0., dtype=float32),\n",
       " 'eval/achievements_make_stone_pickaxe': Array(0., dtype=float32),\n",
       " 'eval/achievements_make_stone_sword': Array(0., dtype=float32),\n",
       " 'eval/achievements_make_torch': Array(0., dtype=float32),\n",
       " 'eval/achievements_make_wood_pickaxe': Array(0., dtype=float32),\n",
       " 'eval/achievements_make_wood_sword': Array(0., dtype=float32),\n",
       " 'eval/achievements_open_chest': Array(0., dtype=float32),\n",
       " 'eval/achievements_place_furnace': Array(0., dtype=float32),\n",
       " 'eval/achievements_place_plant': Array(0.29032257, dtype=float32),\n",
       " 'eval/achievements_place_stone': Array(0., dtype=float32),\n",
       " 'eval/achievements_place_table': Array(0.11290322, dtype=float32),\n",
       " 'eval/achievements_place_torch': Array(0., dtype=float32),\n",
       " 'eval/achievements_wake_up': Array(0.9032258, dtype=float32)}"
      ]
     },
     "execution_count": 198,
     "metadata": {},
     "output_type": "execute_result"
    }
   ],
   "source": [
    "jax.tree_util.tree_map(\n",
    "    lambda idx: achievement_per_exp.at[idx].get(),\n",
    "    {\n",
    "        f\"eval/achievements_{ac.name.lower()}\" : ac.value \\\n",
    "        for ac in Achievement\n",
    "    }\n",
    "    )"
   ]
  },
  {
   "cell_type": "code",
   "execution_count": 154,
   "metadata": {},
   "outputs": [
    {
     "data": {
      "text/plain": [
       "{'achievements/cast_fireball': Array(0., dtype=float32),\n",
       " 'achievements/cast_iceball': Array(0., dtype=float32),\n",
       " 'achievements/collect_coal': Array(0., dtype=float32),\n",
       " 'achievements/collect_diamond': Array(0., dtype=float32),\n",
       " 'achievements/collect_drink': Array(0.09677419, dtype=float32),\n",
       " 'achievements/collect_iron': Array(0., dtype=float32),\n",
       " 'achievements/collect_ruby': Array(0., dtype=float32),\n",
       " 'achievements/collect_sapling': Array(0.3548387, dtype=float32),\n",
       " 'achievements/collect_sapphire': Array(0., dtype=float32),\n",
       " 'achievements/collect_stone': Array(0., dtype=float32),\n",
       " 'achievements/collect_wood': Array(0.48387095, dtype=float32),\n",
       " 'achievements/damage_necromancer': Array(0., dtype=float32),\n",
       " 'achievements/defeat_archer': Array(0., dtype=float32),\n",
       " 'achievements/defeat_deep_thing': Array(0., dtype=float32),\n",
       " 'achievements/defeat_fire_elemental': Array(0., dtype=float32),\n",
       " 'achievements/defeat_frost_troll': Array(0., dtype=float32),\n",
       " 'achievements/defeat_gnome_archer': Array(0., dtype=float32),\n",
       " 'achievements/defeat_gnome_warrior': Array(0., dtype=float32),\n",
       " 'achievements/defeat_ice_elemental': Array(0., dtype=float32),\n",
       " 'achievements/defeat_knight': Array(0., dtype=float32),\n",
       " 'achievements/defeat_kobold': Array(0., dtype=float32),\n",
       " 'achievements/defeat_lizard': Array(0., dtype=float32),\n",
       " 'achievements/defeat_necromancer': Array(0., dtype=float32),\n",
       " 'achievements/defeat_orc_mage': Array(0., dtype=float32),\n",
       " 'achievements/defeat_orc_solider': Array(0., dtype=float32),\n",
       " 'achievements/defeat_pigman': Array(0., dtype=float32),\n",
       " 'achievements/defeat_skeleton': Array(0., dtype=float32),\n",
       " 'achievements/defeat_troll': Array(0., dtype=float32),\n",
       " 'achievements/defeat_zombie': Array(0., dtype=float32),\n",
       " 'achievements/drink_potion': Array(0., dtype=float32),\n",
       " 'achievements/eat_bat': Array(0., dtype=float32),\n",
       " 'achievements/eat_cow': Array(0., dtype=float32),\n",
       " 'achievements/eat_plant': Array(0., dtype=float32),\n",
       " 'achievements/eat_snail': Array(0., dtype=float32),\n",
       " 'achievements/enchant_armour': Array(0., dtype=float32),\n",
       " 'achievements/enchant_sword': Array(0., dtype=float32),\n",
       " 'achievements/enter_dungeon': Array(0., dtype=float32),\n",
       " 'achievements/enter_fire_realm': Array(0., dtype=float32),\n",
       " 'achievements/enter_gnomish_mines': Array(0., dtype=float32),\n",
       " 'achievements/enter_graveyard': Array(0., dtype=float32),\n",
       " 'achievements/enter_ice_realm': Array(0., dtype=float32),\n",
       " 'achievements/enter_sewers': Array(0., dtype=float32),\n",
       " 'achievements/enter_troll_mines': Array(0., dtype=float32),\n",
       " 'achievements/enter_vault': Array(0., dtype=float32),\n",
       " 'achievements/find_bow': Array(0., dtype=float32),\n",
       " 'achievements/fire_bow': Array(0., dtype=float32),\n",
       " 'achievements/learn_fireball': Array(0., dtype=float32),\n",
       " 'achievements/learn_iceball': Array(0., dtype=float32),\n",
       " 'achievements/make_arrow': Array(0., dtype=float32),\n",
       " 'achievements/make_diamond_armour': Array(0., dtype=float32),\n",
       " 'achievements/make_diamond_pickaxe': Array(0., dtype=float32),\n",
       " 'achievements/make_diamond_sword': Array(0., dtype=float32),\n",
       " 'achievements/make_iron_armour': Array(0., dtype=float32),\n",
       " 'achievements/make_iron_pickaxe': Array(0., dtype=float32),\n",
       " 'achievements/make_iron_sword': Array(0., dtype=float32),\n",
       " 'achievements/make_stone_pickaxe': Array(0., dtype=float32),\n",
       " 'achievements/make_stone_sword': Array(0., dtype=float32),\n",
       " 'achievements/make_torch': Array(0., dtype=float32),\n",
       " 'achievements/make_wood_pickaxe': Array(0., dtype=float32),\n",
       " 'achievements/make_wood_sword': Array(0., dtype=float32),\n",
       " 'achievements/open_chest': Array(0., dtype=float32),\n",
       " 'achievements/place_furnace': Array(0., dtype=float32),\n",
       " 'achievements/place_plant': Array(0.29032257, dtype=float32),\n",
       " 'achievements/place_stone': Array(0., dtype=float32),\n",
       " 'achievements/place_table': Array(0.11290322, dtype=float32),\n",
       " 'achievements/place_torch': Array(0., dtype=float32),\n",
       " 'achievements/wake_up': Array(0.9032258, dtype=float32)}"
      ]
     },
     "execution_count": 154,
     "metadata": {},
     "output_type": "execute_result"
    }
   ],
   "source": [
    "out"
   ]
  },
  {
   "cell_type": "code",
   "execution_count": 181,
   "metadata": {},
   "outputs": [
    {
     "ename": "TypeError",
     "evalue": "Value '2' with type <class 'str'> is not a valid JAX type",
     "output_type": "error",
     "traceback": [
      "\u001b[0;31m---------------------------------------------------------------------------\u001b[0m",
      "\u001b[0;31mTypeError\u001b[0m                                 Traceback (most recent call last)",
      "Cell \u001b[0;32mIn[181], line 15\u001b[0m\n\u001b[1;32m     10\u001b[0m     \u001b[38;5;28;01mreturn\u001b[39;00m {\u001b[38;5;124m\"\u001b[39m\u001b[38;5;124mplr\u001b[39m\u001b[38;5;124m\"\u001b[39m:\u001b[38;5;124m'\u001b[39m\u001b[38;5;124m0\u001b[39m\u001b[38;5;124m'\u001b[39m}\n\u001b[1;32m     13\u001b[0m slider \u001b[38;5;241m=\u001b[39m jnp\u001b[38;5;241m.\u001b[39marray([\u001b[38;5;241m0\u001b[39m,\u001b[38;5;241m1\u001b[39m,\u001b[38;5;241m2\u001b[39m])\n\u001b[0;32m---> 15\u001b[0m \u001b[43mjax\u001b[49m\u001b[38;5;241;43m.\u001b[39;49m\u001b[43mlax\u001b[49m\u001b[38;5;241;43m.\u001b[39;49m\u001b[43mswitch\u001b[49m\u001b[43m(\u001b[49m\n\u001b[1;32m     16\u001b[0m \u001b[43m    \u001b[49m\u001b[38;5;241;43m0\u001b[39;49m\u001b[43m,\u001b[49m\n\u001b[1;32m     17\u001b[0m \u001b[43m    \u001b[49m\u001b[43m[\u001b[49m\n\u001b[1;32m     18\u001b[0m \u001b[43m        \u001b[49m\u001b[43mfunc1\u001b[49m\u001b[43m,\u001b[49m\u001b[43m \u001b[49m\u001b[43mfunc2\u001b[49m\u001b[43m,\u001b[49m\u001b[43m \u001b[49m\u001b[43mfunc3\u001b[49m\n\u001b[1;32m     19\u001b[0m \u001b[43m    \u001b[49m\u001b[43m]\u001b[49m\u001b[43m,\u001b[49m\n\u001b[1;32m     20\u001b[0m \u001b[43m    \u001b[49m\u001b[43m[\u001b[49m\u001b[38;5;241;43m0\u001b[39;49m\u001b[43m,\u001b[49m\u001b[38;5;241;43m1\u001b[39;49m\u001b[43m,\u001b[49m\u001b[38;5;241;43m2\u001b[39;49m\u001b[43m]\u001b[49m\n\u001b[1;32m     21\u001b[0m \u001b[43m)\u001b[49m\n",
      "    \u001b[0;31m[... skipping hidden 10 frame]\u001b[0m\n",
      "File \u001b[0;32m~/research/jaxued/.venv/lib/python3.11/site-packages/jax/_src/core.py:1418\u001b[0m, in \u001b[0;36mconcrete_aval\u001b[0;34m(x)\u001b[0m\n\u001b[1;32m   1416\u001b[0m \u001b[38;5;28;01mif\u001b[39;00m \u001b[38;5;28mhasattr\u001b[39m(x, \u001b[38;5;124m'\u001b[39m\u001b[38;5;124m__jax_array__\u001b[39m\u001b[38;5;124m'\u001b[39m):\n\u001b[1;32m   1417\u001b[0m   \u001b[38;5;28;01mreturn\u001b[39;00m concrete_aval(x\u001b[38;5;241m.\u001b[39m__jax_array__())\n\u001b[0;32m-> 1418\u001b[0m \u001b[38;5;28;01mraise\u001b[39;00m \u001b[38;5;167;01mTypeError\u001b[39;00m(\u001b[38;5;124mf\u001b[39m\u001b[38;5;124m\"\u001b[39m\u001b[38;5;124mValue \u001b[39m\u001b[38;5;132;01m{\u001b[39;00mx\u001b[38;5;132;01m!r}\u001b[39;00m\u001b[38;5;124m with type \u001b[39m\u001b[38;5;132;01m{\u001b[39;00m\u001b[38;5;28mtype\u001b[39m(x)\u001b[38;5;132;01m}\u001b[39;00m\u001b[38;5;124m is not a valid JAX \u001b[39m\u001b[38;5;124m\"\u001b[39m\n\u001b[1;32m   1419\u001b[0m                  \u001b[38;5;124m\"\u001b[39m\u001b[38;5;124mtype\u001b[39m\u001b[38;5;124m\"\u001b[39m)\n",
      "\u001b[0;31mTypeError\u001b[0m: Value '2' with type <class 'str'> is not a valid JAX type"
     ]
    }
   ],
   "source": [
    "def func1(x):\n",
    "    return {\"plr\":'2'}\n",
    "\n",
    "\n",
    "def func2(x):\n",
    "    return {\"plr\":'1'}\n",
    "\n",
    "\n",
    "def func3(x):\n",
    "    return {\"plr\":'0'}\n",
    "\n",
    "\n",
    "slider = jnp.array([0,1,2])\n",
    "\n",
    "jax.lax.switch(\n",
    "    0,\n",
    "    [\n",
    "        func1, func2, func3\n",
    "    ],\n",
    "    [0,1,2]\n",
    ")"
   ]
  },
  {
   "cell_type": "code",
   "execution_count": 194,
   "metadata": {},
   "outputs": [],
   "source": [
    "def _step(carry, _):\n",
    "\n",
    "    x = carry \n",
    "    return x+1, {'loss': jnp.full((6,), fill_value=x*2)}"
   ]
  },
  {
   "cell_type": "code",
   "execution_count": 195,
   "metadata": {},
   "outputs": [],
   "source": [
    "f_carry, xs = jax.lax.scan(\n",
    "    _step,\n",
    "    1,\n",
    "    None ,\n",
    "    4\n",
    ")"
   ]
  },
  {
   "cell_type": "code",
   "execution_count": 196,
   "metadata": {},
   "outputs": [
    {
     "data": {
      "text/plain": [
       "Array(5, dtype=int32, weak_type=True)"
      ]
     },
     "execution_count": 196,
     "metadata": {},
     "output_type": "execute_result"
    }
   ],
   "source": [
    "f_carry"
   ]
  },
  {
   "cell_type": "code",
   "execution_count": 197,
   "metadata": {},
   "outputs": [
    {
     "data": {
      "text/plain": [
       "(4, 6)"
      ]
     },
     "execution_count": 197,
     "metadata": {},
     "output_type": "execute_result"
    }
   ],
   "source": [
    "xs['loss'].shape "
   ]
  },
  {
   "cell_type": "code",
   "execution_count": 235,
   "metadata": {},
   "outputs": [],
   "source": [
    "input_ = {\n",
    "    \"stage\": jnp.array([0,1,1,2,1]), \n",
    "    \"array\":jnp.array(\n",
    "        [\n",
    "            [1,2,3,4], #0\n",
    "            [0,0,0,0], # 1,  \n",
    "            [-1,-1,-1,-1], #1 \n",
    "            [4,4,4,4], #2,\n",
    "            [1,1,1,1],\n",
    "        ]\n",
    "    )\n",
    "}\n",
    "\n",
    "\n",
    "\n",
    "#out\n",
    "out = {\n",
    "    \"stage\": jnp.array([1,1,]), \n",
    "    \"array\":jnp.array(\n",
    "        [\n",
    "            [0,0,0,0], # 1,  \n",
    "            [-1,-1,-1,-1], #1 \n",
    "        ]\n",
    "    )\n",
    "} \n",
    "\n",
    "def filter_by_stage(array:chex.Array, target_stage:int=1):\n",
    "    # Get our mask for the target stage\n",
    "    mask = array == target_stage\n",
    "    \n",
    "    # Calculate maximum possible matches (static size)\n",
    "    max_size = array.shape[0]\n",
    "    \n",
    "    # Get indices that would sort True values first\n",
    "    indices = jnp.argsort(~mask)\n",
    "    \n",
    "    # Reorder our arrays using these indices\n",
    "    sorted_arrays = jnp.take(array, indices, axis=0)\n",
    "    \n",
    "    # Instead of slicing, we'll mask the values\n",
    "    n_matches = jnp.sum(mask)\n",
    "    valid_mask = jnp.arange(max_size) < n_matches\n",
    "    out_array =  jnp.where(valid_mask[:, None], sorted_arrays, 0)\n",
    "\n",
    "    return out_array.sum(axis=0)/n_matches"
   ]
  },
  {
   "cell_type": "code",
   "execution_count": 239,
   "metadata": {},
   "outputs": [
    {
     "data": {
      "text/plain": [
       "Array([[ 0,  0,  0,  0],\n",
       "       [-1, -1, -1, -1]], dtype=int32)"
      ]
     },
     "execution_count": 239,
     "metadata": {},
     "output_type": "execute_result"
    }
   ],
   "source": [
    "out[\"array\"][out[\"stage\"]==1]"
   ]
  },
  {
   "cell_type": "code",
   "execution_count": 236,
   "metadata": {},
   "outputs": [
    {
     "ename": "ValueError",
     "evalue": "Incompatible shapes for broadcasting: shapes=[(5, 1), (5, 4, 4), ()]",
     "output_type": "error",
     "traceback": [
      "\u001b[0;31m---------------------------------------------------------------------------\u001b[0m",
      "\u001b[0;31mTypeError\u001b[0m                                 Traceback (most recent call last)",
      "File \u001b[0;32m~/research/jaxued/.venv/lib/python3.11/site-packages/jax/_src/lax/lax.py:174\u001b[0m, in \u001b[0;36m_broadcast_shapes_uncached\u001b[0;34m(*shapes)\u001b[0m\n\u001b[1;32m    173\u001b[0m \u001b[38;5;28;01mtry\u001b[39;00m:\n\u001b[0;32m--> 174\u001b[0m   \u001b[38;5;28;01mreturn\u001b[39;00m \u001b[43m_try_broadcast_shapes\u001b[49m\u001b[43m(\u001b[49m\u001b[38;5;241;43m*\u001b[39;49m\u001b[43mrank_promoted_shapes\u001b[49m\u001b[43m,\u001b[49m\u001b[43m \u001b[49m\u001b[43mname\u001b[49m\u001b[38;5;241;43m=\u001b[39;49m\u001b[38;5;124;43m'\u001b[39;49m\u001b[38;5;124;43mbroadcast_shapes\u001b[39;49m\u001b[38;5;124;43m'\u001b[39;49m\u001b[43m)\u001b[49m\n\u001b[1;32m    175\u001b[0m \u001b[38;5;28;01mexcept\u001b[39;00m \u001b[38;5;167;01mTypeError\u001b[39;00m \u001b[38;5;28;01mas\u001b[39;00m err:\n\u001b[1;32m    176\u001b[0m   \u001b[38;5;66;03m# Raise ValueError here for backward compatibility.\u001b[39;00m\n",
      "File \u001b[0;32m~/research/jaxued/.venv/lib/python3.11/site-packages/jax/_src/lax/lax.py:128\u001b[0m, in \u001b[0;36m_try_broadcast_shapes\u001b[0;34m(name, *shapes)\u001b[0m\n\u001b[1;32m    127\u001b[0m     \u001b[38;5;28;01melse\u001b[39;00m:\n\u001b[0;32m--> 128\u001b[0m       \u001b[38;5;28;01mraise\u001b[39;00m \u001b[38;5;167;01mTypeError\u001b[39;00m(\u001b[38;5;124mf\u001b[39m\u001b[38;5;124m'\u001b[39m\u001b[38;5;132;01m{\u001b[39;00mname\u001b[38;5;132;01m}\u001b[39;00m\u001b[38;5;124m got incompatible shapes for broadcasting: \u001b[39m\u001b[38;5;124m'\u001b[39m\n\u001b[1;32m    129\u001b[0m                       \u001b[38;5;124mf\u001b[39m\u001b[38;5;124m'\u001b[39m\u001b[38;5;132;01m{\u001b[39;00m\u001b[38;5;124m\"\u001b[39m\u001b[38;5;124m, \u001b[39m\u001b[38;5;124m\"\u001b[39m\u001b[38;5;241m.\u001b[39mjoin(\u001b[38;5;28mmap\u001b[39m(\u001b[38;5;28mstr\u001b[39m,\u001b[38;5;250m \u001b[39m\u001b[38;5;28mmap\u001b[39m(\u001b[38;5;28mtuple\u001b[39m,\u001b[38;5;250m \u001b[39mshapes)))\u001b[38;5;132;01m}\u001b[39;00m\u001b[38;5;124m.\u001b[39m\u001b[38;5;124m'\u001b[39m)\n\u001b[1;32m    130\u001b[0m \u001b[38;5;28;01mreturn\u001b[39;00m \u001b[38;5;28mtuple\u001b[39m(result_shape)\n",
      "\u001b[0;31mTypeError\u001b[0m: broadcast_shapes got incompatible shapes for broadcasting: (1, 5, 1), (5, 4, 4), (1, 1, 1).",
      "\nThe above exception was the direct cause of the following exception:\n",
      "\u001b[0;31mValueError\u001b[0m                                Traceback (most recent call last)",
      "    \u001b[0;31m[... skipping hidden 1 frame]\u001b[0m\n",
      "File \u001b[0;32m~/research/jaxued/.venv/lib/python3.11/site-packages/jax/_src/util.py:302\u001b[0m, in \u001b[0;36mcache.<locals>.wrap.<locals>.wrapper\u001b[0;34m(*args, **kwargs)\u001b[0m\n\u001b[1;32m    301\u001b[0m   \u001b[38;5;28;01mreturn\u001b[39;00m f(\u001b[38;5;241m*\u001b[39margs, \u001b[38;5;241m*\u001b[39m\u001b[38;5;241m*\u001b[39mkwargs)\n\u001b[0;32m--> 302\u001b[0m \u001b[38;5;28;01mreturn\u001b[39;00m \u001b[43mcached\u001b[49m\u001b[43m(\u001b[49m\u001b[43mconfig\u001b[49m\u001b[38;5;241;43m.\u001b[39;49m\u001b[43mtrace_context\u001b[49m\u001b[43m(\u001b[49m\u001b[43m)\u001b[49m\u001b[43m \u001b[49m\u001b[38;5;28;43;01mif\u001b[39;49;00m\u001b[43m \u001b[49m\u001b[43mtrace_context_in_key\u001b[49m\u001b[43m \u001b[49m\u001b[38;5;28;43;01melse\u001b[39;49;00m\u001b[43m \u001b[49m\u001b[43m_ignore\u001b[49m\u001b[43m(\u001b[49m\u001b[43m)\u001b[49m\u001b[43m,\u001b[49m\n\u001b[1;32m    303\u001b[0m \u001b[43m              \u001b[49m\u001b[38;5;241;43m*\u001b[39;49m\u001b[43margs\u001b[49m\u001b[43m,\u001b[49m\u001b[43m \u001b[49m\u001b[38;5;241;43m*\u001b[39;49m\u001b[38;5;241;43m*\u001b[39;49m\u001b[43mkwargs\u001b[49m\u001b[43m)\u001b[49m\n",
      "File \u001b[0;32m~/research/jaxued/.venv/lib/python3.11/site-packages/jax/_src/util.py:296\u001b[0m, in \u001b[0;36mcache.<locals>.wrap.<locals>.cached\u001b[0;34m(_, *args, **kwargs)\u001b[0m\n\u001b[1;32m    294\u001b[0m \u001b[38;5;129m@functools\u001b[39m\u001b[38;5;241m.\u001b[39mlru_cache(max_size)\n\u001b[1;32m    295\u001b[0m \u001b[38;5;28;01mdef\u001b[39;00m \u001b[38;5;21mcached\u001b[39m(_, \u001b[38;5;241m*\u001b[39margs, \u001b[38;5;241m*\u001b[39m\u001b[38;5;241m*\u001b[39mkwargs):\n\u001b[0;32m--> 296\u001b[0m   \u001b[38;5;28;01mreturn\u001b[39;00m \u001b[43mf\u001b[49m\u001b[43m(\u001b[49m\u001b[38;5;241;43m*\u001b[39;49m\u001b[43margs\u001b[49m\u001b[43m,\u001b[49m\u001b[43m \u001b[49m\u001b[38;5;241;43m*\u001b[39;49m\u001b[38;5;241;43m*\u001b[39;49m\u001b[43mkwargs\u001b[49m\u001b[43m)\u001b[49m\n",
      "File \u001b[0;32m~/research/jaxued/.venv/lib/python3.11/site-packages/jax/_src/lax/lax.py:158\u001b[0m, in \u001b[0;36m_broadcast_shapes_cached\u001b[0;34m(*shapes)\u001b[0m\n\u001b[1;32m    156\u001b[0m \u001b[38;5;129m@cache\u001b[39m()\n\u001b[1;32m    157\u001b[0m \u001b[38;5;28;01mdef\u001b[39;00m \u001b[38;5;21m_broadcast_shapes_cached\u001b[39m(\u001b[38;5;241m*\u001b[39mshapes: \u001b[38;5;28mtuple\u001b[39m[\u001b[38;5;28mint\u001b[39m, \u001b[38;5;241m.\u001b[39m\u001b[38;5;241m.\u001b[39m\u001b[38;5;241m.\u001b[39m]) \u001b[38;5;241m-\u001b[39m\u001b[38;5;241m>\u001b[39m \u001b[38;5;28mtuple\u001b[39m[\u001b[38;5;28mint\u001b[39m, \u001b[38;5;241m.\u001b[39m\u001b[38;5;241m.\u001b[39m\u001b[38;5;241m.\u001b[39m]:\n\u001b[0;32m--> 158\u001b[0m   \u001b[38;5;28;01mreturn\u001b[39;00m \u001b[43m_broadcast_shapes_uncached\u001b[49m\u001b[43m(\u001b[49m\u001b[38;5;241;43m*\u001b[39;49m\u001b[43mshapes\u001b[49m\u001b[43m)\u001b[49m\n",
      "File \u001b[0;32m~/research/jaxued/.venv/lib/python3.11/site-packages/jax/_src/lax/lax.py:177\u001b[0m, in \u001b[0;36m_broadcast_shapes_uncached\u001b[0;34m(*shapes)\u001b[0m\n\u001b[1;32m    175\u001b[0m \u001b[38;5;28;01mexcept\u001b[39;00m \u001b[38;5;167;01mTypeError\u001b[39;00m \u001b[38;5;28;01mas\u001b[39;00m err:\n\u001b[1;32m    176\u001b[0m   \u001b[38;5;66;03m# Raise ValueError here for backward compatibility.\u001b[39;00m\n\u001b[0;32m--> 177\u001b[0m   \u001b[38;5;28;01mraise\u001b[39;00m \u001b[38;5;167;01mValueError\u001b[39;00m(\u001b[38;5;124mf\u001b[39m\u001b[38;5;124m\"\u001b[39m\u001b[38;5;124mIncompatible shapes for broadcasting: shapes=\u001b[39m\u001b[38;5;132;01m{\u001b[39;00m\u001b[38;5;28mlist\u001b[39m(shapes)\u001b[38;5;132;01m}\u001b[39;00m\u001b[38;5;124m\"\u001b[39m) \u001b[38;5;28;01mfrom\u001b[39;00m \u001b[38;5;21;01merr\u001b[39;00m\n",
      "\u001b[0;31mValueError\u001b[0m: Incompatible shapes for broadcasting: shapes=[(5, 1), (5, 4, 4), ()]",
      "\nDuring handling of the above exception, another exception occurred:\n",
      "\u001b[0;31mTypeError\u001b[0m                                 Traceback (most recent call last)",
      "    \u001b[0;31m[... skipping hidden 1 frame]\u001b[0m\n",
      "File \u001b[0;32m~/research/jaxued/.venv/lib/python3.11/site-packages/jax/_src/lax/lax.py:128\u001b[0m, in \u001b[0;36m_try_broadcast_shapes\u001b[0;34m(name, *shapes)\u001b[0m\n\u001b[1;32m    127\u001b[0m     \u001b[38;5;28;01melse\u001b[39;00m:\n\u001b[0;32m--> 128\u001b[0m       \u001b[38;5;28;01mraise\u001b[39;00m \u001b[38;5;167;01mTypeError\u001b[39;00m(\u001b[38;5;124mf\u001b[39m\u001b[38;5;124m'\u001b[39m\u001b[38;5;132;01m{\u001b[39;00mname\u001b[38;5;132;01m}\u001b[39;00m\u001b[38;5;124m got incompatible shapes for broadcasting: \u001b[39m\u001b[38;5;124m'\u001b[39m\n\u001b[1;32m    129\u001b[0m                       \u001b[38;5;124mf\u001b[39m\u001b[38;5;124m'\u001b[39m\u001b[38;5;132;01m{\u001b[39;00m\u001b[38;5;124m\"\u001b[39m\u001b[38;5;124m, \u001b[39m\u001b[38;5;124m\"\u001b[39m\u001b[38;5;241m.\u001b[39mjoin(\u001b[38;5;28mmap\u001b[39m(\u001b[38;5;28mstr\u001b[39m,\u001b[38;5;250m \u001b[39m\u001b[38;5;28mmap\u001b[39m(\u001b[38;5;28mtuple\u001b[39m,\u001b[38;5;250m \u001b[39mshapes)))\u001b[38;5;132;01m}\u001b[39;00m\u001b[38;5;124m.\u001b[39m\u001b[38;5;124m'\u001b[39m)\n\u001b[1;32m    130\u001b[0m \u001b[38;5;28;01mreturn\u001b[39;00m \u001b[38;5;28mtuple\u001b[39m(result_shape)\n",
      "\u001b[0;31mTypeError\u001b[0m: broadcast_shapes got incompatible shapes for broadcasting: (1, 5, 1), (5, 4, 4), (1, 1, 1).",
      "\nThe above exception was the direct cause of the following exception:\n",
      "\u001b[0;31mValueError\u001b[0m                                Traceback (most recent call last)",
      "Cell \u001b[0;32mIn[236], line 1\u001b[0m\n\u001b[0;32m----> 1\u001b[0m \u001b[43mjax\u001b[49m\u001b[38;5;241;43m.\u001b[39;49m\u001b[43mtree_util\u001b[49m\u001b[38;5;241;43m.\u001b[39;49m\u001b[43mtree_map\u001b[49m\u001b[43m(\u001b[49m\n\u001b[1;32m      2\u001b[0m \u001b[43m    \u001b[49m\u001b[43mfilter_by_stage\u001b[49m\u001b[43m,\u001b[49m\n\u001b[1;32m      3\u001b[0m \u001b[43m    \u001b[49m\u001b[43minput_\u001b[49m\u001b[43m,\u001b[49m\n\u001b[1;32m      4\u001b[0m \u001b[43m)\u001b[49m\n",
      "File \u001b[0;32m~/research/jaxued/.venv/lib/python3.11/site-packages/jax/_src/tree_util.py:359\u001b[0m, in \u001b[0;36mtree_map\u001b[0;34m(f, tree, is_leaf, *rest)\u001b[0m\n\u001b[1;32m    357\u001b[0m leaves, treedef \u001b[38;5;241m=\u001b[39m tree_flatten(tree, is_leaf)\n\u001b[1;32m    358\u001b[0m all_leaves \u001b[38;5;241m=\u001b[39m [leaves] \u001b[38;5;241m+\u001b[39m [treedef\u001b[38;5;241m.\u001b[39mflatten_up_to(r) \u001b[38;5;28;01mfor\u001b[39;00m r \u001b[38;5;129;01min\u001b[39;00m rest]\n\u001b[0;32m--> 359\u001b[0m \u001b[38;5;28;01mreturn\u001b[39;00m \u001b[43mtreedef\u001b[49m\u001b[38;5;241;43m.\u001b[39;49m\u001b[43munflatten\u001b[49m\u001b[43m(\u001b[49m\u001b[43mf\u001b[49m\u001b[43m(\u001b[49m\u001b[38;5;241;43m*\u001b[39;49m\u001b[43mxs\u001b[49m\u001b[43m)\u001b[49m\u001b[43m \u001b[49m\u001b[38;5;28;43;01mfor\u001b[39;49;00m\u001b[43m \u001b[49m\u001b[43mxs\u001b[49m\u001b[43m \u001b[49m\u001b[38;5;129;43;01min\u001b[39;49;00m\u001b[43m \u001b[49m\u001b[38;5;28;43mzip\u001b[39;49m\u001b[43m(\u001b[49m\u001b[38;5;241;43m*\u001b[39;49m\u001b[43mall_leaves\u001b[49m\u001b[43m)\u001b[49m\u001b[43m)\u001b[49m\n",
      "File \u001b[0;32m~/research/jaxued/.venv/lib/python3.11/site-packages/jax/_src/tree_util.py:359\u001b[0m, in \u001b[0;36m<genexpr>\u001b[0;34m(.0)\u001b[0m\n\u001b[1;32m    357\u001b[0m leaves, treedef \u001b[38;5;241m=\u001b[39m tree_flatten(tree, is_leaf)\n\u001b[1;32m    358\u001b[0m all_leaves \u001b[38;5;241m=\u001b[39m [leaves] \u001b[38;5;241m+\u001b[39m [treedef\u001b[38;5;241m.\u001b[39mflatten_up_to(r) \u001b[38;5;28;01mfor\u001b[39;00m r \u001b[38;5;129;01min\u001b[39;00m rest]\n\u001b[0;32m--> 359\u001b[0m \u001b[38;5;28;01mreturn\u001b[39;00m treedef\u001b[38;5;241m.\u001b[39munflatten(\u001b[43mf\u001b[49m\u001b[43m(\u001b[49m\u001b[38;5;241;43m*\u001b[39;49m\u001b[43mxs\u001b[49m\u001b[43m)\u001b[49m \u001b[38;5;28;01mfor\u001b[39;00m xs \u001b[38;5;129;01min\u001b[39;00m \u001b[38;5;28mzip\u001b[39m(\u001b[38;5;241m*\u001b[39mall_leaves))\n",
      "Cell \u001b[0;32mIn[235], line 43\u001b[0m, in \u001b[0;36mfilter_by_stage\u001b[0;34m(array, target_stage)\u001b[0m\n\u001b[1;32m     41\u001b[0m n_matches \u001b[38;5;241m=\u001b[39m jnp\u001b[38;5;241m.\u001b[39msum(mask)\n\u001b[1;32m     42\u001b[0m valid_mask \u001b[38;5;241m=\u001b[39m jnp\u001b[38;5;241m.\u001b[39marange(max_size) \u001b[38;5;241m<\u001b[39m n_matches\n\u001b[0;32m---> 43\u001b[0m out_array \u001b[38;5;241m=\u001b[39m  \u001b[43mjnp\u001b[49m\u001b[38;5;241;43m.\u001b[39;49m\u001b[43mwhere\u001b[49m\u001b[43m(\u001b[49m\u001b[43mvalid_mask\u001b[49m\u001b[43m[\u001b[49m\u001b[43m:\u001b[49m\u001b[43m,\u001b[49m\u001b[43m \u001b[49m\u001b[38;5;28;43;01mNone\u001b[39;49;00m\u001b[43m]\u001b[49m\u001b[43m,\u001b[49m\u001b[43m \u001b[49m\u001b[43msorted_arrays\u001b[49m\u001b[43m,\u001b[49m\u001b[43m \u001b[49m\u001b[38;5;241;43m0\u001b[39;49m\u001b[43m)\u001b[49m\n\u001b[1;32m     45\u001b[0m \u001b[38;5;28;01mreturn\u001b[39;00m out_array\u001b[38;5;241m.\u001b[39msum(axis\u001b[38;5;241m=\u001b[39m\u001b[38;5;241m0\u001b[39m)\u001b[38;5;241m/\u001b[39mn_matches\n",
      "File \u001b[0;32m~/research/jaxued/.venv/lib/python3.11/site-packages/jax/_src/numpy/lax_numpy.py:2983\u001b[0m, in \u001b[0;36mwhere\u001b[0;34m(condition, x, y, size, fill_value)\u001b[0m\n\u001b[1;32m   2979\u001b[0m \u001b[38;5;28;01mif\u001b[39;00m x \u001b[38;5;129;01mis\u001b[39;00m \u001b[38;5;28;01mNone\u001b[39;00m \u001b[38;5;129;01mor\u001b[39;00m y \u001b[38;5;129;01mis\u001b[39;00m \u001b[38;5;28;01mNone\u001b[39;00m:\n\u001b[1;32m   2980\u001b[0m   \u001b[38;5;28;01mraise\u001b[39;00m \u001b[38;5;167;01mValueError\u001b[39;00m(\u001b[38;5;124m\"\u001b[39m\u001b[38;5;124mEither both or neither of the x and y arguments \u001b[39m\u001b[38;5;124m\"\u001b[39m\n\u001b[1;32m   2981\u001b[0m                    \u001b[38;5;124m\"\u001b[39m\u001b[38;5;124mshould be provided to jax.numpy.where, got \u001b[39m\u001b[38;5;124m\"\u001b[39m\n\u001b[1;32m   2982\u001b[0m                    \u001b[38;5;124mf\u001b[39m\u001b[38;5;124m\"\u001b[39m\u001b[38;5;132;01m{\u001b[39;00mx\u001b[38;5;132;01m}\u001b[39;00m\u001b[38;5;124m and \u001b[39m\u001b[38;5;132;01m{\u001b[39;00my\u001b[38;5;132;01m}\u001b[39;00m\u001b[38;5;124m.\u001b[39m\u001b[38;5;124m\"\u001b[39m)\n\u001b[0;32m-> 2983\u001b[0m \u001b[38;5;28;01mreturn\u001b[39;00m \u001b[43mutil\u001b[49m\u001b[38;5;241;43m.\u001b[39;49m\u001b[43m_where\u001b[49m\u001b[43m(\u001b[49m\u001b[43mcondition\u001b[49m\u001b[43m,\u001b[49m\u001b[43m \u001b[49m\u001b[43mx\u001b[49m\u001b[43m,\u001b[49m\u001b[43m \u001b[49m\u001b[43my\u001b[49m\u001b[43m)\u001b[49m\n",
      "    \u001b[0;31m[... skipping hidden 13 frame]\u001b[0m\n",
      "File \u001b[0;32m~/research/jaxued/.venv/lib/python3.11/site-packages/jax/_src/numpy/util.py:268\u001b[0m, in \u001b[0;36m_where\u001b[0;34m(condition, x, y)\u001b[0m\n\u001b[1;32m    266\u001b[0m   x_arr, y_arr \u001b[38;5;241m=\u001b[39m _broadcast_arrays(x, y)\n\u001b[1;32m    267\u001b[0m \u001b[38;5;28;01melse\u001b[39;00m:\n\u001b[0;32m--> 268\u001b[0m   condition, x_arr, y_arr \u001b[38;5;241m=\u001b[39m \u001b[43m_broadcast_arrays\u001b[49m\u001b[43m(\u001b[49m\u001b[43mcondition\u001b[49m\u001b[43m,\u001b[49m\u001b[43m \u001b[49m\u001b[43mx\u001b[49m\u001b[43m,\u001b[49m\u001b[43m \u001b[49m\u001b[43my\u001b[49m\u001b[43m)\u001b[49m\n\u001b[1;32m    269\u001b[0m \u001b[38;5;28;01mtry\u001b[39;00m:\n\u001b[1;32m    270\u001b[0m   is_always_empty \u001b[38;5;241m=\u001b[39m core\u001b[38;5;241m.\u001b[39mis_empty_shape(x_arr\u001b[38;5;241m.\u001b[39mshape)\n",
      "    \u001b[0;31m[... skipping hidden 13 frame]\u001b[0m\n",
      "File \u001b[0;32m~/research/jaxued/.venv/lib/python3.11/site-packages/jax/_src/numpy/util.py:221\u001b[0m, in \u001b[0;36m_broadcast_arrays\u001b[0;34m(*args)\u001b[0m\n\u001b[1;32m    219\u001b[0m \u001b[38;5;28;01mif\u001b[39;00m \u001b[38;5;129;01mnot\u001b[39;00m shapes \u001b[38;5;129;01mor\u001b[39;00m \u001b[38;5;28mall\u001b[39m(core\u001b[38;5;241m.\u001b[39mdefinitely_equal_shape(shapes[\u001b[38;5;241m0\u001b[39m], s) \u001b[38;5;28;01mfor\u001b[39;00m s \u001b[38;5;129;01min\u001b[39;00m shapes):\n\u001b[1;32m    220\u001b[0m   \u001b[38;5;28;01mreturn\u001b[39;00m [lax\u001b[38;5;241m.\u001b[39masarray(arg) \u001b[38;5;28;01mfor\u001b[39;00m arg \u001b[38;5;129;01min\u001b[39;00m args]\n\u001b[0;32m--> 221\u001b[0m result_shape \u001b[38;5;241m=\u001b[39m \u001b[43mlax\u001b[49m\u001b[38;5;241;43m.\u001b[39;49m\u001b[43mbroadcast_shapes\u001b[49m\u001b[43m(\u001b[49m\u001b[38;5;241;43m*\u001b[39;49m\u001b[43mshapes\u001b[49m\u001b[43m)\u001b[49m\n\u001b[1;32m    222\u001b[0m result_sharding \u001b[38;5;241m=\u001b[39m (lax\u001b[38;5;241m.\u001b[39mbroadcast_shardings(\u001b[38;5;241m*\u001b[39mavals)  \u001b[38;5;66;03m# type: ignore\u001b[39;00m\n\u001b[1;32m    223\u001b[0m                    \u001b[38;5;28;01mif\u001b[39;00m config\u001b[38;5;241m.\u001b[39msharding_in_types\u001b[38;5;241m.\u001b[39mvalue \u001b[38;5;28;01melse\u001b[39;00m \u001b[38;5;28;01mNone\u001b[39;00m)\n\u001b[1;32m    224\u001b[0m \u001b[38;5;28;01mreturn\u001b[39;00m [_broadcast_to(arg, result_shape, result_sharding) \u001b[38;5;28;01mfor\u001b[39;00m arg \u001b[38;5;129;01min\u001b[39;00m args]\n",
      "    \u001b[0;31m[... skipping hidden 1 frame]\u001b[0m\n",
      "File \u001b[0;32m~/research/jaxued/.venv/lib/python3.11/site-packages/jax/_src/lax/lax.py:177\u001b[0m, in \u001b[0;36m_broadcast_shapes_uncached\u001b[0;34m(*shapes)\u001b[0m\n\u001b[1;32m    174\u001b[0m   \u001b[38;5;28;01mreturn\u001b[39;00m _try_broadcast_shapes(\u001b[38;5;241m*\u001b[39mrank_promoted_shapes, name\u001b[38;5;241m=\u001b[39m\u001b[38;5;124m'\u001b[39m\u001b[38;5;124mbroadcast_shapes\u001b[39m\u001b[38;5;124m'\u001b[39m)\n\u001b[1;32m    175\u001b[0m \u001b[38;5;28;01mexcept\u001b[39;00m \u001b[38;5;167;01mTypeError\u001b[39;00m \u001b[38;5;28;01mas\u001b[39;00m err:\n\u001b[1;32m    176\u001b[0m   \u001b[38;5;66;03m# Raise ValueError here for backward compatibility.\u001b[39;00m\n\u001b[0;32m--> 177\u001b[0m   \u001b[38;5;28;01mraise\u001b[39;00m \u001b[38;5;167;01mValueError\u001b[39;00m(\u001b[38;5;124mf\u001b[39m\u001b[38;5;124m\"\u001b[39m\u001b[38;5;124mIncompatible shapes for broadcasting: shapes=\u001b[39m\u001b[38;5;132;01m{\u001b[39;00m\u001b[38;5;28mlist\u001b[39m(shapes)\u001b[38;5;132;01m}\u001b[39;00m\u001b[38;5;124m\"\u001b[39m) \u001b[38;5;28;01mfrom\u001b[39;00m \u001b[38;5;21;01merr\u001b[39;00m\n",
      "\u001b[0;31mValueError\u001b[0m: Incompatible shapes for broadcasting: shapes=[(5, 1), (5, 4, 4), ()]"
     ]
    }
   ],
   "source": [
    "jax.tree_util.tree_map(\n",
    "    filter_by_stage,\n",
    "    input_,\n",
    ")"
   ]
  },
  {
   "cell_type": "code",
   "execution_count": 222,
   "metadata": {},
   "outputs": [
    {
     "data": {
      "text/plain": [
       "{'array': Array([[ 0,  0,  0,  0],\n",
       "        [-1, -1, -1, -1],\n",
       "        [ 1,  1,  1,  1],\n",
       "        [ 0,  0,  0,  0],\n",
       "        [ 0,  0,  0,  0]], dtype=int32),\n",
       " 'avg': Array([0., 0., 0., 0.], dtype=float32),\n",
       " 'n_matches': Array(3, dtype=int32)}"
      ]
     },
     "execution_count": 222,
     "metadata": {},
     "output_type": "execute_result"
    }
   ],
   "source": [
    "filter_by_stage(input_, 1)"
   ]
  },
  {
   "cell_type": "code",
   "execution_count": null,
   "metadata": {},
   "outputs": [],
   "source": []
  }
 ],
 "metadata": {
  "kernelspec": {
   "display_name": "cloudspace",
   "language": "python",
   "name": "python3"
  },
  "language_info": {
   "codemirror_mode": {
    "name": "ipython",
    "version": 3
   },
   "file_extension": ".py",
   "mimetype": "text/x-python",
   "name": "python",
   "nbconvert_exporter": "python",
   "pygments_lexer": "ipython3",
   "version": "3.10.10"
  }
 },
 "nbformat": 4,
 "nbformat_minor": 2
}
