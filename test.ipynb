{
 "cells": [
  {
   "cell_type": "code",
   "execution_count": 1,
   "metadata": {},
   "outputs": [
    {
     "name": "stdout",
     "output_type": "stream",
     "text": [
      "Loading textures from cache.\n",
      "Textures successfully loaded from cache.\n"
     ]
    }
   ],
   "source": [
    "from typing import Tuple\n",
    "\n",
    "import jax \n",
    "import jax.numpy as jnp \n",
    "import numpy \n",
    "\n",
    "from craftax.craftax_env import CraftaxSymbolicEnv\n",
    "from craftax.craftax.craftax_state import EnvParams, EnvState "
   ]
  },
  {
   "cell_type": "code",
   "execution_count": 9,
   "metadata": {},
   "outputs": [
    {
     "name": "stdout",
     "output_type": "stream",
     "text": [
      "results/baseline/0/results.npz\n",
      "cum_rewards\n",
      "16.5\n",
      "episode_lengths\n",
      "500.8\n"
     ]
    }
   ],
   "source": [
    "from numpy import load\n",
    "\n",
    "file_path = 'results/baseline/0/results.npz'\n",
    "print(file_path)\n",
    "data = load(file_path)\n",
    "lst = data.files\n",
    "for item in lst:\n",
    "    if item != \"states\":\n",
    "        print(item)\n",
    "        print(data[item].mean())"
   ]
  },
  {
   "cell_type": "code",
   "execution_count": 10,
   "metadata": {},
   "outputs": [
    {
     "name": "stdout",
     "output_type": "stream",
     "text": [
      "results/moed-claude35-static-easy-hard-nolrannel/0/results.npz\n",
      "cum_rewards\n",
      "14.699999\n",
      "episode_lengths\n",
      "359.2\n"
     ]
    }
   ],
   "source": [
    "file_path = 'results/moed-claude35-static-easy-hard-nolrannel/0/results.npz'\n",
    "print(file_path)\n",
    "data = load(file_path)\n",
    "lst = data.files\n",
    "for item in lst:\n",
    "    if item != \"states\":\n",
    "        print(item)\n",
    "        print(data[item].mean())"
   ]
  },
  {
   "cell_type": "code",
   "execution_count": 11,
   "metadata": {},
   "outputs": [
    {
     "name": "stdout",
     "output_type": "stream",
     "text": [
      "results/moed-claude35-static-easy-hard/0/results.npz\n",
      "cum_rewards\n",
      "14.3\n",
      "episode_lengths\n",
      "247.8\n"
     ]
    }
   ],
   "source": [
    "file_path = 'results/moed-claude35-static-easy-hard/0/results.npz'\n",
    "print(file_path)\n",
    "data = load(file_path)\n",
    "lst = data.files\n",
    "for item in lst:\n",
    "    if item != \"states\":\n",
    "        print(item)\n",
    "        print(data[item].mean())"
   ]
  },
  {
   "cell_type": "code",
   "execution_count": 60,
   "metadata": {},
   "outputs": [],
   "source": [
    "def cal_mem(shape:Tuple, dtype:int=32): \n",
    "    num_bytes = {\n",
    "        32:4,\n",
    "        16:2,\n",
    "    }\n",
    "\n",
    "    array = jnp.array(shape, dtype=jnp.float32)\n",
    "    #print(array)\n",
    "    prod = jnp.prod(array)\n",
    "    print(prod)\n",
    "    print(f\"Number of bytes: {prod*num_bytes[dtype]}\")\n",
    "    return f\"{prod*num_bytes[dtype] / 1e09} GB\" "
   ]
  },
  {
   "cell_type": "code",
   "execution_count": 62,
   "metadata": {},
   "outputs": [
    {
     "data": {
      "text/plain": [
       "(8268,)"
      ]
     },
     "execution_count": 62,
     "metadata": {},
     "output_type": "execute_result"
    }
   ],
   "source": [
    "env = CraftaxSymbolicEnv()\n",
    "obs_space = env.observation_space(EnvParams)\n",
    "obs = obs_space.sample(jax.random.PRNGKey(1))\n",
    "obs.shape "
   ]
  },
  {
   "cell_type": "code",
   "execution_count": 64,
   "metadata": {},
   "outputs": [
    {
     "name": "stdout",
     "output_type": "stream",
     "text": [
      "34678505000.0\n",
      "Number of bytes: 138714021888.0\n",
      "138.71401977539062 GB\n"
     ]
    }
   ],
   "source": [
    "shape1 = (1, 1024, 4096,) + obs.shape\n",
    "mem1 = cal_mem(shape1,)\n",
    "print(mem1)"
   ]
  },
  {
   "cell_type": "code",
   "execution_count": 47,
   "metadata": {},
   "outputs": [
    {
     "data": {
      "text/plain": [
       "5641338880"
      ]
     },
     "execution_count": 47,
     "metadata": {},
     "output_type": "execute_result"
    }
   ],
   "source": [
    "1*1024*4096*1345"
   ]
  },
  {
   "cell_type": "code",
   "execution_count": 51,
   "metadata": {},
   "outputs": [
    {
     "data": {
      "text/plain": [
       "134.217728"
      ]
     },
     "execution_count": 51,
     "metadata": {},
     "output_type": "execute_result"
    }
   ],
   "source": [
    "1 * 4096 * 1024 * 8000 * 4 / 1e09"
   ]
  },
  {
   "cell_type": "code",
   "execution_count": null,
   "metadata": {},
   "outputs": [],
   "source": []
  }
 ],
 "metadata": {
  "kernelspec": {
   "display_name": "cloudspace",
   "language": "python",
   "name": "python3"
  },
  "language_info": {
   "codemirror_mode": {
    "name": "ipython",
    "version": 3
   },
   "file_extension": ".py",
   "mimetype": "text/x-python",
   "name": "python",
   "nbconvert_exporter": "python",
   "pygments_lexer": "ipython3",
   "version": "3.10.13"
  }
 },
 "nbformat": 4,
 "nbformat_minor": 2
}
