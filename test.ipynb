{
 "cells": [
  {
   "cell_type": "code",
   "execution_count": 59,
   "metadata": {},
   "outputs": [],
   "source": [
    "from typing import Tuple\n",
    "\n",
    "import jax \n",
    "import jax.numpy as jnp \n",
    "\n",
    "from craftax.craftax_env import CraftaxSymbolicEnv\n",
    "from craftax.craftax.craftax_state import EnvParams, EnvState "
   ]
  },
  {
   "cell_type": "code",
   "execution_count": 60,
   "metadata": {},
   "outputs": [],
   "source": [
    "def cal_mem(shape:Tuple, dtype:int=32): \n",
    "    num_bytes = {\n",
    "        32:4,\n",
    "        16:2,\n",
    "    }\n",
    "\n",
    "    array = jnp.array(shape, dtype=jnp.float32)\n",
    "    #print(array)\n",
    "    prod = jnp.prod(array)\n",
    "    print(prod)\n",
    "    print(f\"Number of bytes: {prod*num_bytes[dtype]}\")\n",
    "    return f\"{prod*num_bytes[dtype] / 1e09} GB\" "
   ]
  },
  {
   "cell_type": "code",
   "execution_count": 62,
   "metadata": {},
   "outputs": [
    {
     "data": {
      "text/plain": [
       "(8268,)"
      ]
     },
     "execution_count": 62,
     "metadata": {},
     "output_type": "execute_result"
    }
   ],
   "source": [
    "env = CraftaxSymbolicEnv()\n",
    "obs_space = env.observation_space(EnvParams)\n",
    "obs = obs_space.sample(jax.random.PRNGKey(1))\n",
    "obs.shape "
   ]
  },
  {
   "cell_type": "code",
   "execution_count": 64,
   "metadata": {},
   "outputs": [
    {
     "name": "stdout",
     "output_type": "stream",
     "text": [
      "34678505000.0\n",
      "Number of bytes: 138714021888.0\n",
      "138.71401977539062 GB\n"
     ]
    }
   ],
   "source": [
    "shape1 = (1, 1024, 4096,) + obs.shape\n",
    "mem1 = cal_mem(shape1,)\n",
    "print(mem1)"
   ]
  },
  {
   "cell_type": "code",
   "execution_count": 47,
   "metadata": {},
   "outputs": [
    {
     "data": {
      "text/plain": [
       "5641338880"
      ]
     },
     "execution_count": 47,
     "metadata": {},
     "output_type": "execute_result"
    }
   ],
   "source": [
    "1*1024*4096*1345"
   ]
  },
  {
   "cell_type": "code",
   "execution_count": 51,
   "metadata": {},
   "outputs": [
    {
     "data": {
      "text/plain": [
       "134.217728"
      ]
     },
     "execution_count": 51,
     "metadata": {},
     "output_type": "execute_result"
    }
   ],
   "source": [
    "1 * 4096 * 1024 * 8000 * 4 / 1e09"
   ]
  },
  {
   "cell_type": "code",
   "execution_count": null,
   "metadata": {},
   "outputs": [],
   "source": []
  }
 ],
 "metadata": {
  "kernelspec": {
   "display_name": ".venv",
   "language": "python",
   "name": "python3"
  },
  "language_info": {
   "codemirror_mode": {
    "name": "ipython",
    "version": 3
   },
   "file_extension": ".py",
   "mimetype": "text/x-python",
   "name": "python",
   "nbconvert_exporter": "python",
   "pygments_lexer": "ipython3",
   "version": "3.11.5"
  }
 },
 "nbformat": 4,
 "nbformat_minor": 2
}
